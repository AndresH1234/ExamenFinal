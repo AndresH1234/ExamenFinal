{
 "cells": [
  {
   "cell_type": "markdown",
   "id": "b3e49875",
   "metadata": {},
   "source": [
    "# Business Understanding"
   ]
  },
  {
   "cell_type": "markdown",
   "id": "df5bdac8",
   "metadata": {},
   "source": [
    "**Problema**: ¿Cómo podemos identificar a los clientes con mayor riesgo de abandono para intervenir de forma proactiva y reducir la tasa de cancelación?\n",
    "**Hipotesis**: \n",
    "- Los clientes con contratos mensuales tienen mayor probabilidad de abandonar que aquellos con contratos a largo plazo.\n",
    "\n",
    "- El uso de métodos de pago electrónicos automáticos se asocia a una menor tasa de cancelación.\n",
    "\n",
    "- Clientes con múltiples servicios (internet + teléfono) tienen menor tasa de abandono debido a una mayor dependencia del proveedor.\n",
    "\n",
    "- Los clientes mayores de 60 años tienen una menor propensión a cancelar su suscripción.\n",
    "\n",
    "- Una factura mensual más elevada puede estar asociada a una mayor probabilidad de cancelación, especialmente si no hay valor percibido adicional.\n",
    "\n",
    "**KPI**:\n",
    "- F1-Score: balance entre precisión y recall.\n",
    "\n",
    "- AUC-ROC: capacidad del modelo para discriminar entre clases.\n",
    "\n",
    "Negocio:\n",
    "- Reducción de la tasa de cancelación: diferencia porcentual antes y después de aplicar las acciones basadas en el modelo.\n",
    "\n",
    "- Retorno de la inversión (ROI) de promociones: relación entre el costo de los códigos promocionales entregados y los ingresos conservados.\n",
    "\n",
    "- Tasa de retención de clientes en riesgo: porcentaje de clientes en riesgo que permanecen tras recibir una oferta personalizada."
   ]
  },
  {
   "cell_type": "markdown",
   "id": "42b63086",
   "metadata": {},
   "source": [
    "# Data Understanding"
   ]
  },
  {
   "cell_type": "code",
   "execution_count": 1,
   "id": "6f110fa1",
   "metadata": {},
   "outputs": [],
   "source": [
    "import pandas as pd\n",
    "import numpy as np\n",
    "import matplotlib.pyplot as plt\n",
    "import seaborn as sns"
   ]
  },
  {
   "cell_type": "code",
   "execution_count": 2,
   "id": "5d50a2a0",
   "metadata": {},
   "outputs": [],
   "source": [
    "contract = pd.read_csv('../data/contract.csv')\n",
    "internet = pd.read_csv('../data/internet.csv')\n",
    "personal = pd.read_csv('../data/personal.csv')\n",
    "phone = pd.read_csv('../data/phone.csv')"
   ]
  },
  {
   "cell_type": "code",
   "execution_count": 3,
   "id": "79a0c9ed",
   "metadata": {},
   "outputs": [],
   "source": [
    "def exploracion_inicial(df):\n",
    "    # Head\n",
    "    print('-'*30 + 'Primeras 10 filas' + '-'*30)\n",
    "    print(df.head(10))\n",
    "    # Estructura de la tabla\n",
    "    print('-'*30 + 'Estructura de la tabla' + '-'*30)\n",
    "    print(df.info())\n",
    "    # Duplicados\n",
    "    print('-'*30 + 'Duplicados' + '-'*30)\n",
    "    print(df.duplicated().sum())\n",
    "    # Valores nulos\n",
    "    print('-'*30 + 'Valores nulos' + '-'*30)\n",
    "    print(df.isnull().sum())\n",
    "    # Estadísticas\n",
    "    print('-'*30 + 'Estadísticas' + '-'*30)\n",
    "    print(df.describe())"
   ]
  },
  {
   "cell_type": "code",
   "execution_count": 4,
   "id": "2f0b7d05",
   "metadata": {},
   "outputs": [
    {
     "name": "stdout",
     "output_type": "stream",
     "text": [
      "------------------------------Primeras 10 filas------------------------------\n",
      "   customerID   BeginDate              EndDate            Type  \\\n",
      "0  7590-VHVEG  2020-01-01                   No  Month-to-month   \n",
      "1  5575-GNVDE  2017-04-01                   No        One year   \n",
      "2  3668-QPYBK  2019-10-01  2019-12-01 00:00:00  Month-to-month   \n",
      "3  7795-CFOCW  2016-05-01                   No        One year   \n",
      "4  9237-HQITU  2019-09-01  2019-11-01 00:00:00  Month-to-month   \n",
      "5  9305-CDSKC  2019-03-01  2019-11-01 00:00:00  Month-to-month   \n",
      "6  1452-KIOVK  2018-04-01                   No  Month-to-month   \n",
      "7  6713-OKOMC  2019-04-01                   No  Month-to-month   \n",
      "8  7892-POOKP  2017-07-01  2019-11-01 00:00:00  Month-to-month   \n",
      "9  6388-TABGU  2014-12-01                   No        One year   \n",
      "\n",
      "  PaperlessBilling              PaymentMethod  MonthlyCharges TotalCharges  \n",
      "0              Yes           Electronic check           29.85        29.85  \n",
      "1               No               Mailed check           56.95       1889.5  \n",
      "2              Yes               Mailed check           53.85       108.15  \n",
      "3               No  Bank transfer (automatic)           42.30      1840.75  \n",
      "4              Yes           Electronic check           70.70       151.65  \n",
      "5              Yes           Electronic check           99.65        820.5  \n",
      "6              Yes    Credit card (automatic)           89.10       1949.4  \n",
      "7               No               Mailed check           29.75        301.9  \n",
      "8              Yes           Electronic check          104.80      3046.05  \n",
      "9               No  Bank transfer (automatic)           56.15      3487.95  \n",
      "------------------------------Estructura de la tabla------------------------------\n",
      "<class 'pandas.core.frame.DataFrame'>\n",
      "RangeIndex: 7043 entries, 0 to 7042\n",
      "Data columns (total 8 columns):\n",
      " #   Column            Non-Null Count  Dtype  \n",
      "---  ------            --------------  -----  \n",
      " 0   customerID        7043 non-null   object \n",
      " 1   BeginDate         7043 non-null   object \n",
      " 2   EndDate           7043 non-null   object \n",
      " 3   Type              7043 non-null   object \n",
      " 4   PaperlessBilling  7043 non-null   object \n",
      " 5   PaymentMethod     7043 non-null   object \n",
      " 6   MonthlyCharges    7043 non-null   float64\n",
      " 7   TotalCharges      7043 non-null   object \n",
      "dtypes: float64(1), object(7)\n",
      "memory usage: 440.3+ KB\n",
      "None\n",
      "------------------------------Duplicados------------------------------\n",
      "0\n",
      "------------------------------Valores nulos------------------------------\n",
      "customerID          0\n",
      "BeginDate           0\n",
      "EndDate             0\n",
      "Type                0\n",
      "PaperlessBilling    0\n",
      "PaymentMethod       0\n",
      "MonthlyCharges      0\n",
      "TotalCharges        0\n",
      "dtype: int64\n",
      "------------------------------Estadísticas------------------------------\n",
      "       MonthlyCharges\n",
      "count     7043.000000\n",
      "mean        64.761692\n",
      "std         30.090047\n",
      "min         18.250000\n",
      "25%         35.500000\n",
      "50%         70.350000\n",
      "75%         89.850000\n",
      "max        118.750000\n"
     ]
    }
   ],
   "source": [
    "exploracion_inicial(contract)"
   ]
  },
  {
   "cell_type": "code",
   "execution_count": 5,
   "id": "da9269f9",
   "metadata": {},
   "outputs": [
    {
     "name": "stdout",
     "output_type": "stream",
     "text": [
      "------------------------------Primeras 10 filas------------------------------\n",
      "   customerID InternetService OnlineSecurity OnlineBackup DeviceProtection  \\\n",
      "0  7590-VHVEG             DSL             No          Yes               No   \n",
      "1  5575-GNVDE             DSL            Yes           No              Yes   \n",
      "2  3668-QPYBK             DSL            Yes          Yes               No   \n",
      "3  7795-CFOCW             DSL            Yes           No              Yes   \n",
      "4  9237-HQITU     Fiber optic             No           No               No   \n",
      "5  9305-CDSKC     Fiber optic             No           No              Yes   \n",
      "6  1452-KIOVK     Fiber optic             No          Yes               No   \n",
      "7  6713-OKOMC             DSL            Yes           No               No   \n",
      "8  7892-POOKP     Fiber optic             No           No              Yes   \n",
      "9  6388-TABGU             DSL            Yes          Yes               No   \n",
      "\n",
      "  TechSupport StreamingTV StreamingMovies  \n",
      "0          No          No              No  \n",
      "1          No          No              No  \n",
      "2          No          No              No  \n",
      "3         Yes          No              No  \n",
      "4          No          No              No  \n",
      "5          No         Yes             Yes  \n",
      "6          No         Yes              No  \n",
      "7          No          No              No  \n",
      "8         Yes         Yes             Yes  \n",
      "9          No          No              No  \n",
      "------------------------------Estructura de la tabla------------------------------\n",
      "<class 'pandas.core.frame.DataFrame'>\n",
      "RangeIndex: 5517 entries, 0 to 5516\n",
      "Data columns (total 8 columns):\n",
      " #   Column            Non-Null Count  Dtype \n",
      "---  ------            --------------  ----- \n",
      " 0   customerID        5517 non-null   object\n",
      " 1   InternetService   5517 non-null   object\n",
      " 2   OnlineSecurity    5517 non-null   object\n",
      " 3   OnlineBackup      5517 non-null   object\n",
      " 4   DeviceProtection  5517 non-null   object\n",
      " 5   TechSupport       5517 non-null   object\n",
      " 6   StreamingTV       5517 non-null   object\n",
      " 7   StreamingMovies   5517 non-null   object\n",
      "dtypes: object(8)\n",
      "memory usage: 344.9+ KB\n",
      "None\n",
      "------------------------------Duplicados------------------------------\n",
      "0\n",
      "------------------------------Valores nulos------------------------------\n",
      "customerID          0\n",
      "InternetService     0\n",
      "OnlineSecurity      0\n",
      "OnlineBackup        0\n",
      "DeviceProtection    0\n",
      "TechSupport         0\n",
      "StreamingTV         0\n",
      "StreamingMovies     0\n",
      "dtype: int64\n",
      "------------------------------Estadísticas------------------------------\n",
      "        customerID InternetService OnlineSecurity OnlineBackup  \\\n",
      "count         5517            5517           5517         5517   \n",
      "unique        5517               2              2            2   \n",
      "top     7590-VHVEG     Fiber optic             No           No   \n",
      "freq             1            3096           3498         3088   \n",
      "\n",
      "       DeviceProtection TechSupport StreamingTV StreamingMovies  \n",
      "count              5517        5517        5517            5517  \n",
      "unique                2           2           2               2  \n",
      "top                  No          No          No              No  \n",
      "freq               3095        3473        2810            2785  \n"
     ]
    }
   ],
   "source": [
    "exploracion_inicial(internet)"
   ]
  },
  {
   "cell_type": "code",
   "execution_count": 6,
   "id": "932ef2b4",
   "metadata": {},
   "outputs": [
    {
     "name": "stdout",
     "output_type": "stream",
     "text": [
      "------------------------------Primeras 10 filas------------------------------\n",
      "   customerID  gender  SeniorCitizen Partner Dependents\n",
      "0  7590-VHVEG  Female              0     Yes         No\n",
      "1  5575-GNVDE    Male              0      No         No\n",
      "2  3668-QPYBK    Male              0      No         No\n",
      "3  7795-CFOCW    Male              0      No         No\n",
      "4  9237-HQITU  Female              0      No         No\n",
      "5  9305-CDSKC  Female              0      No         No\n",
      "6  1452-KIOVK    Male              0      No        Yes\n",
      "7  6713-OKOMC  Female              0      No         No\n",
      "8  7892-POOKP  Female              0     Yes         No\n",
      "9  6388-TABGU    Male              0      No        Yes\n",
      "------------------------------Estructura de la tabla------------------------------\n",
      "<class 'pandas.core.frame.DataFrame'>\n",
      "RangeIndex: 7043 entries, 0 to 7042\n",
      "Data columns (total 5 columns):\n",
      " #   Column         Non-Null Count  Dtype \n",
      "---  ------         --------------  ----- \n",
      " 0   customerID     7043 non-null   object\n",
      " 1   gender         7043 non-null   object\n",
      " 2   SeniorCitizen  7043 non-null   int64 \n",
      " 3   Partner        7043 non-null   object\n",
      " 4   Dependents     7043 non-null   object\n",
      "dtypes: int64(1), object(4)\n",
      "memory usage: 275.2+ KB\n",
      "None\n",
      "------------------------------Duplicados------------------------------\n",
      "0\n",
      "------------------------------Valores nulos------------------------------\n",
      "customerID       0\n",
      "gender           0\n",
      "SeniorCitizen    0\n",
      "Partner          0\n",
      "Dependents       0\n",
      "dtype: int64\n",
      "------------------------------Estadísticas------------------------------\n",
      "       SeniorCitizen\n",
      "count    7043.000000\n",
      "mean        0.162147\n",
      "std         0.368612\n",
      "min         0.000000\n",
      "25%         0.000000\n",
      "50%         0.000000\n",
      "75%         0.000000\n",
      "max         1.000000\n"
     ]
    }
   ],
   "source": [
    "exploracion_inicial(personal)"
   ]
  },
  {
   "cell_type": "code",
   "execution_count": 7,
   "id": "e37f88bd",
   "metadata": {},
   "outputs": [
    {
     "name": "stdout",
     "output_type": "stream",
     "text": [
      "------------------------------Primeras 10 filas------------------------------\n",
      "   customerID MultipleLines\n",
      "0  5575-GNVDE            No\n",
      "1  3668-QPYBK            No\n",
      "2  9237-HQITU            No\n",
      "3  9305-CDSKC           Yes\n",
      "4  1452-KIOVK           Yes\n",
      "5  7892-POOKP           Yes\n",
      "6  6388-TABGU            No\n",
      "7  9763-GRSKD            No\n",
      "8  7469-LKBCI            No\n",
      "9  8091-TTVAX           Yes\n",
      "------------------------------Estructura de la tabla------------------------------\n",
      "<class 'pandas.core.frame.DataFrame'>\n",
      "RangeIndex: 6361 entries, 0 to 6360\n",
      "Data columns (total 2 columns):\n",
      " #   Column         Non-Null Count  Dtype \n",
      "---  ------         --------------  ----- \n",
      " 0   customerID     6361 non-null   object\n",
      " 1   MultipleLines  6361 non-null   object\n",
      "dtypes: object(2)\n",
      "memory usage: 99.5+ KB\n",
      "None\n",
      "------------------------------Duplicados------------------------------\n",
      "0\n",
      "------------------------------Valores nulos------------------------------\n",
      "customerID       0\n",
      "MultipleLines    0\n",
      "dtype: int64\n",
      "------------------------------Estadísticas------------------------------\n",
      "        customerID MultipleLines\n",
      "count         6361          6361\n",
      "unique        6361             2\n",
      "top     5575-GNVDE            No\n",
      "freq             1          3390\n"
     ]
    }
   ],
   "source": [
    "exploracion_inicial(phone)"
   ]
  },
  {
   "cell_type": "markdown",
   "id": "2c5db818",
   "metadata": {},
   "source": [
    "# Data Preparation"
   ]
  },
  {
   "cell_type": "code",
   "execution_count": 8,
   "id": "183815fa",
   "metadata": {},
   "outputs": [
    {
     "data": {
      "text/plain": [
       "Index(['customerID', 'BeginDate', 'EndDate', 'Type', 'PaperlessBilling',\n",
       "       'PaymentMethod', 'MonthlyCharges', 'TotalCharges', 'InternetService',\n",
       "       'OnlineSecurity', 'OnlineBackup', 'DeviceProtection', 'TechSupport',\n",
       "       'StreamingTV', 'StreamingMovies'],\n",
       "      dtype='object')"
      ]
     },
     "execution_count": 8,
     "metadata": {},
     "output_type": "execute_result"
    }
   ],
   "source": [
    "# Unificación de fuentes\n",
    "data = pd.merge(contract, internet, on='customerID', how='left')\n",
    "data.columns"
   ]
  },
  {
   "cell_type": "code",
   "execution_count": 9,
   "id": "7e64c38d",
   "metadata": {},
   "outputs": [
    {
     "data": {
      "text/plain": [
       "Index(['customerID', 'BeginDate', 'EndDate', 'Type', 'PaperlessBilling',\n",
       "       'PaymentMethod', 'MonthlyCharges', 'TotalCharges', 'InternetService',\n",
       "       'OnlineSecurity', 'OnlineBackup', 'DeviceProtection', 'TechSupport',\n",
       "       'StreamingTV', 'StreamingMovies', 'gender', 'SeniorCitizen', 'Partner',\n",
       "       'Dependents'],\n",
       "      dtype='object')"
      ]
     },
     "execution_count": 9,
     "metadata": {},
     "output_type": "execute_result"
    }
   ],
   "source": [
    "data = pd.merge(data, personal, on='customerID', how='left')\n",
    "data.columns"
   ]
  },
  {
   "cell_type": "code",
   "execution_count": 10,
   "id": "361fd6f3",
   "metadata": {},
   "outputs": [
    {
     "data": {
      "text/plain": [
       "Index(['customerID', 'BeginDate', 'EndDate', 'Type', 'PaperlessBilling',\n",
       "       'PaymentMethod', 'MonthlyCharges', 'TotalCharges', 'InternetService',\n",
       "       'OnlineSecurity', 'OnlineBackup', 'DeviceProtection', 'TechSupport',\n",
       "       'StreamingTV', 'StreamingMovies', 'gender', 'SeniorCitizen', 'Partner',\n",
       "       'Dependents', 'MultipleLines'],\n",
       "      dtype='object')"
      ]
     },
     "execution_count": 10,
     "metadata": {},
     "output_type": "execute_result"
    }
   ],
   "source": [
    "data = pd.merge(data, phone, on='customerID', how='left')\n",
    "data.columns"
   ]
  },
  {
   "cell_type": "code",
   "execution_count": 11,
   "id": "494c145f",
   "metadata": {},
   "outputs": [
    {
     "name": "stdout",
     "output_type": "stream",
     "text": [
      "------------------------------Primeras 10 filas------------------------------\n",
      "   customerID   BeginDate              EndDate            Type  \\\n",
      "0  7590-VHVEG  2020-01-01                   No  Month-to-month   \n",
      "1  5575-GNVDE  2017-04-01                   No        One year   \n",
      "2  3668-QPYBK  2019-10-01  2019-12-01 00:00:00  Month-to-month   \n",
      "3  7795-CFOCW  2016-05-01                   No        One year   \n",
      "4  9237-HQITU  2019-09-01  2019-11-01 00:00:00  Month-to-month   \n",
      "5  9305-CDSKC  2019-03-01  2019-11-01 00:00:00  Month-to-month   \n",
      "6  1452-KIOVK  2018-04-01                   No  Month-to-month   \n",
      "7  6713-OKOMC  2019-04-01                   No  Month-to-month   \n",
      "8  7892-POOKP  2017-07-01  2019-11-01 00:00:00  Month-to-month   \n",
      "9  6388-TABGU  2014-12-01                   No        One year   \n",
      "\n",
      "  PaperlessBilling              PaymentMethod  MonthlyCharges TotalCharges  \\\n",
      "0              Yes           Electronic check           29.85        29.85   \n",
      "1               No               Mailed check           56.95       1889.5   \n",
      "2              Yes               Mailed check           53.85       108.15   \n",
      "3               No  Bank transfer (automatic)           42.30      1840.75   \n",
      "4              Yes           Electronic check           70.70       151.65   \n",
      "5              Yes           Electronic check           99.65        820.5   \n",
      "6              Yes    Credit card (automatic)           89.10       1949.4   \n",
      "7               No               Mailed check           29.75        301.9   \n",
      "8              Yes           Electronic check          104.80      3046.05   \n",
      "9               No  Bank transfer (automatic)           56.15      3487.95   \n",
      "\n",
      "  InternetService OnlineSecurity OnlineBackup DeviceProtection TechSupport  \\\n",
      "0             DSL             No          Yes               No          No   \n",
      "1             DSL            Yes           No              Yes          No   \n",
      "2             DSL            Yes          Yes               No          No   \n",
      "3             DSL            Yes           No              Yes         Yes   \n",
      "4     Fiber optic             No           No               No          No   \n",
      "5     Fiber optic             No           No              Yes          No   \n",
      "6     Fiber optic             No          Yes               No          No   \n",
      "7             DSL            Yes           No               No          No   \n",
      "8     Fiber optic             No           No              Yes         Yes   \n",
      "9             DSL            Yes          Yes               No          No   \n",
      "\n",
      "  StreamingTV StreamingMovies  gender  SeniorCitizen Partner Dependents  \\\n",
      "0          No              No  Female              0     Yes         No   \n",
      "1          No              No    Male              0      No         No   \n",
      "2          No              No    Male              0      No         No   \n",
      "3          No              No    Male              0      No         No   \n",
      "4          No              No  Female              0      No         No   \n",
      "5         Yes             Yes  Female              0      No         No   \n",
      "6         Yes              No    Male              0      No        Yes   \n",
      "7          No              No  Female              0      No         No   \n",
      "8         Yes             Yes  Female              0     Yes         No   \n",
      "9          No              No    Male              0      No        Yes   \n",
      "\n",
      "  MultipleLines  \n",
      "0           NaN  \n",
      "1            No  \n",
      "2            No  \n",
      "3           NaN  \n",
      "4            No  \n",
      "5           Yes  \n",
      "6           Yes  \n",
      "7           NaN  \n",
      "8           Yes  \n",
      "9            No  \n",
      "------------------------------Estructura de la tabla------------------------------\n",
      "<class 'pandas.core.frame.DataFrame'>\n",
      "RangeIndex: 7043 entries, 0 to 7042\n",
      "Data columns (total 20 columns):\n",
      " #   Column            Non-Null Count  Dtype  \n",
      "---  ------            --------------  -----  \n",
      " 0   customerID        7043 non-null   object \n",
      " 1   BeginDate         7043 non-null   object \n",
      " 2   EndDate           7043 non-null   object \n",
      " 3   Type              7043 non-null   object \n",
      " 4   PaperlessBilling  7043 non-null   object \n",
      " 5   PaymentMethod     7043 non-null   object \n",
      " 6   MonthlyCharges    7043 non-null   float64\n",
      " 7   TotalCharges      7043 non-null   object \n",
      " 8   InternetService   5517 non-null   object \n",
      " 9   OnlineSecurity    5517 non-null   object \n",
      " 10  OnlineBackup      5517 non-null   object \n",
      " 11  DeviceProtection  5517 non-null   object \n",
      " 12  TechSupport       5517 non-null   object \n",
      " 13  StreamingTV       5517 non-null   object \n",
      " 14  StreamingMovies   5517 non-null   object \n",
      " 15  gender            7043 non-null   object \n",
      " 16  SeniorCitizen     7043 non-null   int64  \n",
      " 17  Partner           7043 non-null   object \n",
      " 18  Dependents        7043 non-null   object \n",
      " 19  MultipleLines     6361 non-null   object \n",
      "dtypes: float64(1), int64(1), object(18)\n",
      "memory usage: 1.1+ MB\n",
      "None\n",
      "------------------------------Duplicados------------------------------\n",
      "0\n",
      "------------------------------Valores nulos------------------------------\n",
      "customerID             0\n",
      "BeginDate              0\n",
      "EndDate                0\n",
      "Type                   0\n",
      "PaperlessBilling       0\n",
      "PaymentMethod          0\n",
      "MonthlyCharges         0\n",
      "TotalCharges           0\n",
      "InternetService     1526\n",
      "OnlineSecurity      1526\n",
      "OnlineBackup        1526\n",
      "DeviceProtection    1526\n",
      "TechSupport         1526\n",
      "StreamingTV         1526\n",
      "StreamingMovies     1526\n",
      "gender                 0\n",
      "SeniorCitizen          0\n",
      "Partner                0\n",
      "Dependents             0\n",
      "MultipleLines        682\n",
      "dtype: int64\n",
      "------------------------------Estadísticas------------------------------\n",
      "       MonthlyCharges  SeniorCitizen\n",
      "count     7043.000000    7043.000000\n",
      "mean        64.761692       0.162147\n",
      "std         30.090047       0.368612\n",
      "min         18.250000       0.000000\n",
      "25%         35.500000       0.000000\n",
      "50%         70.350000       0.000000\n",
      "75%         89.850000       0.000000\n",
      "max        118.750000       1.000000\n"
     ]
    }
   ],
   "source": [
    "exploracion_inicial(data)"
   ]
  },
  {
   "cell_type": "code",
   "execution_count": 12,
   "id": "969fc768",
   "metadata": {},
   "outputs": [],
   "source": [
    "cols_servicios = ['InternetService', 'OnlineSecurity', 'OnlineBackup', \n",
    "                  'DeviceProtection', 'TechSupport', 'StreamingTV', 'StreamingMovies']\n",
    "\n",
    "for col in cols_servicios:\n",
    "    data[col] = data[col].fillna('No')"
   ]
  },
  {
   "cell_type": "code",
   "execution_count": 13,
   "id": "a758bd78",
   "metadata": {},
   "outputs": [],
   "source": [
    "data['MultipleLines'] = data['MultipleLines'].fillna('No phone service')"
   ]
  },
  {
   "cell_type": "code",
   "execution_count": 14,
   "id": "2a465ad3",
   "metadata": {},
   "outputs": [
    {
     "name": "stdout",
     "output_type": "stream",
     "text": [
      "customerID          0\n",
      "BeginDate           0\n",
      "EndDate             0\n",
      "Type                0\n",
      "PaperlessBilling    0\n",
      "PaymentMethod       0\n",
      "MonthlyCharges      0\n",
      "TotalCharges        0\n",
      "InternetService     0\n",
      "OnlineSecurity      0\n",
      "OnlineBackup        0\n",
      "DeviceProtection    0\n",
      "TechSupport         0\n",
      "StreamingTV         0\n",
      "StreamingMovies     0\n",
      "gender              0\n",
      "SeniorCitizen       0\n",
      "Partner             0\n",
      "Dependents          0\n",
      "MultipleLines       0\n",
      "dtype: int64\n"
     ]
    }
   ],
   "source": [
    "# Ver nulos\n",
    "print(data.isnull().sum())"
   ]
  },
  {
   "cell_type": "code",
   "execution_count": 15,
   "id": "7eeec05c",
   "metadata": {},
   "outputs": [
    {
     "name": "stdout",
     "output_type": "stream",
     "text": [
      "<class 'pandas.core.frame.DataFrame'>\n",
      "RangeIndex: 7043 entries, 0 to 7042\n",
      "Data columns (total 20 columns):\n",
      " #   Column            Non-Null Count  Dtype  \n",
      "---  ------            --------------  -----  \n",
      " 0   customerID        7043 non-null   object \n",
      " 1   BeginDate         7043 non-null   object \n",
      " 2   EndDate           7043 non-null   object \n",
      " 3   Type              7043 non-null   object \n",
      " 4   PaperlessBilling  7043 non-null   object \n",
      " 5   PaymentMethod     7043 non-null   object \n",
      " 6   MonthlyCharges    7043 non-null   float64\n",
      " 7   TotalCharges      7043 non-null   object \n",
      " 8   InternetService   7043 non-null   object \n",
      " 9   OnlineSecurity    7043 non-null   object \n",
      " 10  OnlineBackup      7043 non-null   object \n",
      " 11  DeviceProtection  7043 non-null   object \n",
      " 12  TechSupport       7043 non-null   object \n",
      " 13  StreamingTV       7043 non-null   object \n",
      " 14  StreamingMovies   7043 non-null   object \n",
      " 15  gender            7043 non-null   object \n",
      " 16  SeniorCitizen     7043 non-null   int64  \n",
      " 17  Partner           7043 non-null   object \n",
      " 18  Dependents        7043 non-null   object \n",
      " 19  MultipleLines     7043 non-null   object \n",
      "dtypes: float64(1), int64(1), object(18)\n",
      "memory usage: 1.1+ MB\n",
      "None\n"
     ]
    }
   ],
   "source": [
    "# estructura de la tabla\n",
    "print(data.info())\n"
   ]
  },
  {
   "cell_type": "code",
   "execution_count": 16,
   "id": "57aa533e",
   "metadata": {},
   "outputs": [],
   "source": [
    "# Pasar a fecha BeginDate y EndDate\n",
    "data['BeginDate'] = pd.to_datetime(data['BeginDate'], format='%Y-%m-%d')"
   ]
  },
  {
   "cell_type": "code",
   "execution_count": 17,
   "id": "13f2844f",
   "metadata": {},
   "outputs": [],
   "source": [
    "# Para EndDate si no es no pasar a fecha\n",
    "data['EndDate'] = pd.to_datetime(data['EndDate'], format='%Y-%m-%d %H:%M:%S', errors='coerce')"
   ]
  },
  {
   "cell_type": "code",
   "execution_count": 18,
   "id": "de510e59",
   "metadata": {},
   "outputs": [
    {
     "data": {
      "text/plain": [
       "5174"
      ]
     },
     "execution_count": 18,
     "metadata": {},
     "output_type": "execute_result"
    }
   ],
   "source": [
    "data['EndDate'].isnull().sum()"
   ]
  },
  {
   "cell_type": "code",
   "execution_count": 19,
   "id": "392d111e",
   "metadata": {},
   "outputs": [],
   "source": [
    "data_ml = data.copy()"
   ]
  },
  {
   "cell_type": "code",
   "execution_count": 20,
   "id": "16a1fb43",
   "metadata": {},
   "outputs": [
    {
     "data": {
      "text/plain": [
       "Type\n",
       "Month-to-month    3875\n",
       "Two year          1695\n",
       "One year          1473\n",
       "Name: count, dtype: int64"
      ]
     },
     "execution_count": 20,
     "metadata": {},
     "output_type": "execute_result"
    }
   ],
   "source": [
    "data_ml['Type'].value_counts()"
   ]
  },
  {
   "cell_type": "code",
   "execution_count": 21,
   "id": "9eb757a7",
   "metadata": {},
   "outputs": [],
   "source": [
    "from sklearn.preprocessing import OrdinalEncoder\n",
    "\n",
    "type_order = [['Month-to-month', 'One year', 'Two year']]\n",
    "encoder = OrdinalEncoder(categories=type_order)\n",
    "\n",
    "data_ml['Type_encoded'] = encoder.fit_transform(data_ml[['Type']])\n",
    "data_ml.drop('Type', axis=1, inplace=True)"
   ]
  },
  {
   "cell_type": "code",
   "execution_count": 22,
   "id": "450742e4",
   "metadata": {},
   "outputs": [],
   "source": [
    "data_ml['PaperlessBilling'] = data_ml['PaperlessBilling'].map({'Yes': 1, 'No': 0})"
   ]
  },
  {
   "cell_type": "code",
   "execution_count": 23,
   "id": "833f9f3e",
   "metadata": {},
   "outputs": [
    {
     "data": {
      "text/plain": [
       "PaymentMethod\n",
       "Electronic check             2365\n",
       "Mailed check                 1612\n",
       "Bank transfer (automatic)    1544\n",
       "Credit card (automatic)      1522\n",
       "Name: count, dtype: int64"
      ]
     },
     "execution_count": 23,
     "metadata": {},
     "output_type": "execute_result"
    }
   ],
   "source": [
    "data_ml['PaymentMethod'].value_counts()"
   ]
  },
  {
   "cell_type": "code",
   "execution_count": 24,
   "id": "0736b6d0",
   "metadata": {},
   "outputs": [],
   "source": [
    "payment_dummy = pd.get_dummies(data_ml['PaymentMethod'], prefix='PaymentMethod')\n",
    "data_ml = pd.concat([data_ml, payment_dummy], axis=1)\n",
    "data_ml.drop('PaymentMethod', axis=1, inplace=True)"
   ]
  },
  {
   "cell_type": "code",
   "execution_count": 25,
   "id": "1c9c20a6",
   "metadata": {},
   "outputs": [],
   "source": [
    "data_ml['TotalCharges'] = pd.to_numeric(data_ml['TotalCharges'], errors='coerce')\n",
    "data_ml['TotalCharges'] = data_ml['TotalCharges'].fillna(0)\n"
   ]
  },
  {
   "cell_type": "code",
   "execution_count": 26,
   "id": "4abaa6df",
   "metadata": {},
   "outputs": [],
   "source": [
    "# Dummies de InternetService\n",
    "data_ml = pd.get_dummies(data_ml, columns=['InternetService'], drop_first=False)"
   ]
  },
  {
   "cell_type": "code",
   "execution_count": 27,
   "id": "a3f7ef8e",
   "metadata": {},
   "outputs": [],
   "source": [
    "data_ml.drop('InternetService_No', axis=1, inplace=True)"
   ]
  },
  {
   "cell_type": "code",
   "execution_count": 28,
   "id": "494d6dbe",
   "metadata": {},
   "outputs": [],
   "source": [
    "# Transforma a boolean OnlineSecurity\n",
    "data_ml['OnlineSecurity'] = data_ml['OnlineSecurity'].map({'Yes': 1, 'No': 0})"
   ]
  },
  {
   "cell_type": "code",
   "execution_count": 29,
   "id": "2402c77a",
   "metadata": {},
   "outputs": [],
   "source": [
    "data_ml['OnlineBackup'] = data_ml['OnlineBackup'].map({'Yes': 1, 'No': 0})"
   ]
  },
  {
   "cell_type": "code",
   "execution_count": 30,
   "id": "998d295a",
   "metadata": {},
   "outputs": [],
   "source": [
    "data_ml['DeviceProtection'] = data_ml['DeviceProtection'].map({'Yes': 1, 'No': 0})"
   ]
  },
  {
   "cell_type": "code",
   "execution_count": 31,
   "id": "42a48ead",
   "metadata": {},
   "outputs": [],
   "source": [
    "data_ml['TechSupport'] = data_ml['TechSupport'].map({'Yes': 1, 'No': 0})"
   ]
  },
  {
   "cell_type": "code",
   "execution_count": 32,
   "id": "9dba5c48",
   "metadata": {},
   "outputs": [],
   "source": [
    "data_ml['StreamingTV'] = data_ml['StreamingTV'].map({'Yes': 1, 'No': 0})"
   ]
  },
  {
   "cell_type": "code",
   "execution_count": 33,
   "id": "c702d77d",
   "metadata": {},
   "outputs": [],
   "source": [
    "data_ml['StreamingMovies'] = data_ml['StreamingMovies'].map({'Yes': 1, 'No': 0})"
   ]
  },
  {
   "cell_type": "code",
   "execution_count": 34,
   "id": "9facc084",
   "metadata": {},
   "outputs": [
    {
     "data": {
      "text/plain": [
       "gender\n",
       "Male      3555\n",
       "Female    3488\n",
       "Name: count, dtype: int64"
      ]
     },
     "execution_count": 34,
     "metadata": {},
     "output_type": "execute_result"
    }
   ],
   "source": [
    "data_ml['gender'].value_counts()"
   ]
  },
  {
   "cell_type": "code",
   "execution_count": 35,
   "id": "45820e1f",
   "metadata": {},
   "outputs": [],
   "source": [
    "# Si gender Male 0 si gender Female 1\n",
    "data_ml['gender'] = data_ml['gender'].map({'Male': 0, 'Female': 1})"
   ]
  },
  {
   "cell_type": "code",
   "execution_count": 36,
   "id": "fe16dc14",
   "metadata": {},
   "outputs": [],
   "source": [
    "data_ml['Partner'] = data_ml['Partner'].map({'Yes': 1, 'No': 0})"
   ]
  },
  {
   "cell_type": "code",
   "execution_count": 37,
   "id": "fa78ad2a",
   "metadata": {},
   "outputs": [],
   "source": [
    "data_ml['Dependents'] = data_ml['Dependents'].map({'Yes': 1, 'No': 0})"
   ]
  },
  {
   "cell_type": "code",
   "execution_count": 38,
   "id": "c879d9a5",
   "metadata": {},
   "outputs": [],
   "source": [
    "data_ml = pd.get_dummies(data_ml, columns=['MultipleLines'], drop_first=False)"
   ]
  },
  {
   "cell_type": "code",
   "execution_count": 39,
   "id": "44f90087",
   "metadata": {},
   "outputs": [],
   "source": [
    "data_ml.drop('MultipleLines_No phone service', axis=1, inplace=True)"
   ]
  },
  {
   "cell_type": "code",
   "execution_count": 40,
   "id": "a4892c79",
   "metadata": {},
   "outputs": [
    {
     "name": "stdout",
     "output_type": "stream",
     "text": [
      "<class 'pandas.core.frame.DataFrame'>\n",
      "RangeIndex: 7043 entries, 0 to 7042\n",
      "Data columns (total 25 columns):\n",
      " #   Column                                   Non-Null Count  Dtype         \n",
      "---  ------                                   --------------  -----         \n",
      " 0   customerID                               7043 non-null   object        \n",
      " 1   BeginDate                                7043 non-null   datetime64[ns]\n",
      " 2   EndDate                                  1869 non-null   datetime64[ns]\n",
      " 3   PaperlessBilling                         7043 non-null   int64         \n",
      " 4   MonthlyCharges                           7043 non-null   float64       \n",
      " 5   TotalCharges                             7043 non-null   float64       \n",
      " 6   OnlineSecurity                           7043 non-null   int64         \n",
      " 7   OnlineBackup                             7043 non-null   int64         \n",
      " 8   DeviceProtection                         7043 non-null   int64         \n",
      " 9   TechSupport                              7043 non-null   int64         \n",
      " 10  StreamingTV                              7043 non-null   int64         \n",
      " 11  StreamingMovies                          7043 non-null   int64         \n",
      " 12  gender                                   7043 non-null   int64         \n",
      " 13  SeniorCitizen                            7043 non-null   int64         \n",
      " 14  Partner                                  7043 non-null   int64         \n",
      " 15  Dependents                               7043 non-null   int64         \n",
      " 16  Type_encoded                             7043 non-null   float64       \n",
      " 17  PaymentMethod_Bank transfer (automatic)  7043 non-null   bool          \n",
      " 18  PaymentMethod_Credit card (automatic)    7043 non-null   bool          \n",
      " 19  PaymentMethod_Electronic check           7043 non-null   bool          \n",
      " 20  PaymentMethod_Mailed check               7043 non-null   bool          \n",
      " 21  InternetService_DSL                      7043 non-null   bool          \n",
      " 22  InternetService_Fiber optic              7043 non-null   bool          \n",
      " 23  MultipleLines_No                         7043 non-null   bool          \n",
      " 24  MultipleLines_Yes                        7043 non-null   bool          \n",
      "dtypes: bool(8), datetime64[ns](2), float64(3), int64(11), object(1)\n",
      "memory usage: 990.5+ KB\n"
     ]
    }
   ],
   "source": [
    "data_ml.info()"
   ]
  },
  {
   "cell_type": "code",
   "execution_count": 41,
   "id": "e41d4839",
   "metadata": {},
   "outputs": [],
   "source": [
    "data_ml['is_churn'] = data_ml['EndDate'].apply(lambda x: 1 if pd.notnull(x) else 0)\n"
   ]
  },
  {
   "cell_type": "code",
   "execution_count": 42,
   "id": "ec3c5705",
   "metadata": {},
   "outputs": [
    {
     "data": {
      "text/plain": [
       "is_churn\n",
       "0    5174\n",
       "1    1869\n",
       "Name: count, dtype: int64"
      ]
     },
     "execution_count": 42,
     "metadata": {},
     "output_type": "execute_result"
    }
   ],
   "source": [
    "data_ml['is_churn'].value_counts()"
   ]
  },
  {
   "cell_type": "code",
   "execution_count": 43,
   "id": "7a5d6ac2",
   "metadata": {},
   "outputs": [],
   "source": [
    "# Duration \n",
    "data_ml['Duration'] = (data_ml['EndDate'] - data_ml['BeginDate']).dt.days / 30"
   ]
  },
  {
   "cell_type": "code",
   "execution_count": 44,
   "id": "bc99c005",
   "metadata": {},
   "outputs": [
    {
     "data": {
      "text/plain": [
       "count    1869.000000\n",
       "mean       18.245069\n",
       "std        19.812987\n",
       "min         1.000000\n",
       "25%         2.033333\n",
       "50%        10.133333\n",
       "75%        29.433333\n",
       "max        73.033333\n",
       "Name: Duration, dtype: float64"
      ]
     },
     "execution_count": 44,
     "metadata": {},
     "output_type": "execute_result"
    }
   ],
   "source": [
    "data_ml['Duration'].describe()  "
   ]
  },
  {
   "cell_type": "code",
   "execution_count": 45,
   "id": "82460bc1",
   "metadata": {},
   "outputs": [
    {
     "name": "stdout",
     "output_type": "stream",
     "text": [
      "<class 'pandas.core.frame.DataFrame'>\n",
      "RangeIndex: 7043 entries, 0 to 7042\n",
      "Data columns (total 27 columns):\n",
      " #   Column                                   Non-Null Count  Dtype         \n",
      "---  ------                                   --------------  -----         \n",
      " 0   customerID                               7043 non-null   object        \n",
      " 1   BeginDate                                7043 non-null   datetime64[ns]\n",
      " 2   EndDate                                  1869 non-null   datetime64[ns]\n",
      " 3   PaperlessBilling                         7043 non-null   int64         \n",
      " 4   MonthlyCharges                           7043 non-null   float64       \n",
      " 5   TotalCharges                             7043 non-null   float64       \n",
      " 6   OnlineSecurity                           7043 non-null   int64         \n",
      " 7   OnlineBackup                             7043 non-null   int64         \n",
      " 8   DeviceProtection                         7043 non-null   int64         \n",
      " 9   TechSupport                              7043 non-null   int64         \n",
      " 10  StreamingTV                              7043 non-null   int64         \n",
      " 11  StreamingMovies                          7043 non-null   int64         \n",
      " 12  gender                                   7043 non-null   int64         \n",
      " 13  SeniorCitizen                            7043 non-null   int64         \n",
      " 14  Partner                                  7043 non-null   int64         \n",
      " 15  Dependents                               7043 non-null   int64         \n",
      " 16  Type_encoded                             7043 non-null   float64       \n",
      " 17  PaymentMethod_Bank transfer (automatic)  7043 non-null   bool          \n",
      " 18  PaymentMethod_Credit card (automatic)    7043 non-null   bool          \n",
      " 19  PaymentMethod_Electronic check           7043 non-null   bool          \n",
      " 20  PaymentMethod_Mailed check               7043 non-null   bool          \n",
      " 21  InternetService_DSL                      7043 non-null   bool          \n",
      " 22  InternetService_Fiber optic              7043 non-null   bool          \n",
      " 23  MultipleLines_No                         7043 non-null   bool          \n",
      " 24  MultipleLines_Yes                        7043 non-null   bool          \n",
      " 25  is_churn                                 7043 non-null   int64         \n",
      " 26  Duration                                 1869 non-null   float64       \n",
      "dtypes: bool(8), datetime64[ns](2), float64(4), int64(12), object(1)\n",
      "memory usage: 1.1+ MB\n"
     ]
    }
   ],
   "source": [
    "data_ml.info()"
   ]
  },
  {
   "cell_type": "code",
   "execution_count": 46,
   "id": "473b6eb8",
   "metadata": {},
   "outputs": [],
   "source": [
    "# LLena los nulos con un valor alto \n",
    "data_ml['Duration'] = data_ml['Duration'].fillna(1000)"
   ]
  },
  {
   "cell_type": "code",
   "execution_count": 47,
   "id": "38d03f94",
   "metadata": {},
   "outputs": [
    {
     "name": "stdout",
     "output_type": "stream",
     "text": [
      "<class 'pandas.core.frame.DataFrame'>\n",
      "RangeIndex: 7043 entries, 0 to 7042\n",
      "Data columns (total 27 columns):\n",
      " #   Column                                   Non-Null Count  Dtype         \n",
      "---  ------                                   --------------  -----         \n",
      " 0   customerID                               7043 non-null   object        \n",
      " 1   BeginDate                                7043 non-null   datetime64[ns]\n",
      " 2   EndDate                                  1869 non-null   datetime64[ns]\n",
      " 3   PaperlessBilling                         7043 non-null   int64         \n",
      " 4   MonthlyCharges                           7043 non-null   float64       \n",
      " 5   TotalCharges                             7043 non-null   float64       \n",
      " 6   OnlineSecurity                           7043 non-null   int64         \n",
      " 7   OnlineBackup                             7043 non-null   int64         \n",
      " 8   DeviceProtection                         7043 non-null   int64         \n",
      " 9   TechSupport                              7043 non-null   int64         \n",
      " 10  StreamingTV                              7043 non-null   int64         \n",
      " 11  StreamingMovies                          7043 non-null   int64         \n",
      " 12  gender                                   7043 non-null   int64         \n",
      " 13  SeniorCitizen                            7043 non-null   int64         \n",
      " 14  Partner                                  7043 non-null   int64         \n",
      " 15  Dependents                               7043 non-null   int64         \n",
      " 16  Type_encoded                             7043 non-null   float64       \n",
      " 17  PaymentMethod_Bank transfer (automatic)  7043 non-null   bool          \n",
      " 18  PaymentMethod_Credit card (automatic)    7043 non-null   bool          \n",
      " 19  PaymentMethod_Electronic check           7043 non-null   bool          \n",
      " 20  PaymentMethod_Mailed check               7043 non-null   bool          \n",
      " 21  InternetService_DSL                      7043 non-null   bool          \n",
      " 22  InternetService_Fiber optic              7043 non-null   bool          \n",
      " 23  MultipleLines_No                         7043 non-null   bool          \n",
      " 24  MultipleLines_Yes                        7043 non-null   bool          \n",
      " 25  is_churn                                 7043 non-null   int64         \n",
      " 26  Duration                                 7043 non-null   float64       \n",
      "dtypes: bool(8), datetime64[ns](2), float64(4), int64(12), object(1)\n",
      "memory usage: 1.1+ MB\n"
     ]
    }
   ],
   "source": [
    "data_ml.info()"
   ]
  },
  {
   "cell_type": "code",
   "execution_count": 48,
   "id": "5e424651",
   "metadata": {},
   "outputs": [
    {
     "name": "stdout",
     "output_type": "stream",
     "text": [
      "------------------------------Primeras 10 filas------------------------------\n",
      "   customerID  BeginDate    EndDate  PaperlessBilling  MonthlyCharges  \\\n",
      "0  7590-VHVEG 2020-01-01        NaT                 1           29.85   \n",
      "1  5575-GNVDE 2017-04-01        NaT                 0           56.95   \n",
      "2  3668-QPYBK 2019-10-01 2019-12-01                 1           53.85   \n",
      "3  7795-CFOCW 2016-05-01        NaT                 0           42.30   \n",
      "4  9237-HQITU 2019-09-01 2019-11-01                 1           70.70   \n",
      "5  9305-CDSKC 2019-03-01 2019-11-01                 1           99.65   \n",
      "6  1452-KIOVK 2018-04-01        NaT                 1           89.10   \n",
      "7  6713-OKOMC 2019-04-01        NaT                 0           29.75   \n",
      "8  7892-POOKP 2017-07-01 2019-11-01                 1          104.80   \n",
      "9  6388-TABGU 2014-12-01        NaT                 0           56.15   \n",
      "\n",
      "   TotalCharges  OnlineSecurity  OnlineBackup  DeviceProtection  TechSupport  \\\n",
      "0         29.85               0             1                 0            0   \n",
      "1       1889.50               1             0                 1            0   \n",
      "2        108.15               1             1                 0            0   \n",
      "3       1840.75               1             0                 1            1   \n",
      "4        151.65               0             0                 0            0   \n",
      "5        820.50               0             0                 1            0   \n",
      "6       1949.40               0             1                 0            0   \n",
      "7        301.90               1             0                 0            0   \n",
      "8       3046.05               0             0                 1            1   \n",
      "9       3487.95               1             1                 0            0   \n",
      "\n",
      "   ...  PaymentMethod_Bank transfer (automatic)  \\\n",
      "0  ...                                    False   \n",
      "1  ...                                    False   \n",
      "2  ...                                    False   \n",
      "3  ...                                     True   \n",
      "4  ...                                    False   \n",
      "5  ...                                    False   \n",
      "6  ...                                    False   \n",
      "7  ...                                    False   \n",
      "8  ...                                    False   \n",
      "9  ...                                     True   \n",
      "\n",
      "   PaymentMethod_Credit card (automatic)  PaymentMethod_Electronic check  \\\n",
      "0                                  False                            True   \n",
      "1                                  False                           False   \n",
      "2                                  False                           False   \n",
      "3                                  False                           False   \n",
      "4                                  False                            True   \n",
      "5                                  False                            True   \n",
      "6                                   True                           False   \n",
      "7                                  False                           False   \n",
      "8                                  False                            True   \n",
      "9                                  False                           False   \n",
      "\n",
      "   PaymentMethod_Mailed check  InternetService_DSL  \\\n",
      "0                       False                 True   \n",
      "1                        True                 True   \n",
      "2                        True                 True   \n",
      "3                       False                 True   \n",
      "4                       False                False   \n",
      "5                       False                False   \n",
      "6                       False                False   \n",
      "7                        True                 True   \n",
      "8                       False                False   \n",
      "9                       False                 True   \n",
      "\n",
      "   InternetService_Fiber optic  MultipleLines_No  MultipleLines_Yes  is_churn  \\\n",
      "0                        False             False              False         0   \n",
      "1                        False              True              False         0   \n",
      "2                        False              True              False         1   \n",
      "3                        False             False              False         0   \n",
      "4                         True              True              False         1   \n",
      "5                         True             False               True         1   \n",
      "6                         True             False               True         0   \n",
      "7                        False             False              False         0   \n",
      "8                         True             False               True         1   \n",
      "9                        False              True              False         0   \n",
      "\n",
      "      Duration  \n",
      "0  1000.000000  \n",
      "1  1000.000000  \n",
      "2     2.033333  \n",
      "3  1000.000000  \n",
      "4     2.033333  \n",
      "5     8.166667  \n",
      "6  1000.000000  \n",
      "7  1000.000000  \n",
      "8    28.433333  \n",
      "9  1000.000000  \n",
      "\n",
      "[10 rows x 27 columns]\n",
      "------------------------------Estructura de la tabla------------------------------\n",
      "<class 'pandas.core.frame.DataFrame'>\n",
      "RangeIndex: 7043 entries, 0 to 7042\n",
      "Data columns (total 27 columns):\n",
      " #   Column                                   Non-Null Count  Dtype         \n",
      "---  ------                                   --------------  -----         \n",
      " 0   customerID                               7043 non-null   object        \n",
      " 1   BeginDate                                7043 non-null   datetime64[ns]\n",
      " 2   EndDate                                  1869 non-null   datetime64[ns]\n",
      " 3   PaperlessBilling                         7043 non-null   int64         \n",
      " 4   MonthlyCharges                           7043 non-null   float64       \n",
      " 5   TotalCharges                             7043 non-null   float64       \n",
      " 6   OnlineSecurity                           7043 non-null   int64         \n",
      " 7   OnlineBackup                             7043 non-null   int64         \n",
      " 8   DeviceProtection                         7043 non-null   int64         \n",
      " 9   TechSupport                              7043 non-null   int64         \n",
      " 10  StreamingTV                              7043 non-null   int64         \n",
      " 11  StreamingMovies                          7043 non-null   int64         \n",
      " 12  gender                                   7043 non-null   int64         \n",
      " 13  SeniorCitizen                            7043 non-null   int64         \n",
      " 14  Partner                                  7043 non-null   int64         \n",
      " 15  Dependents                               7043 non-null   int64         \n",
      " 16  Type_encoded                             7043 non-null   float64       \n",
      " 17  PaymentMethod_Bank transfer (automatic)  7043 non-null   bool          \n",
      " 18  PaymentMethod_Credit card (automatic)    7043 non-null   bool          \n",
      " 19  PaymentMethod_Electronic check           7043 non-null   bool          \n",
      " 20  PaymentMethod_Mailed check               7043 non-null   bool          \n",
      " 21  InternetService_DSL                      7043 non-null   bool          \n",
      " 22  InternetService_Fiber optic              7043 non-null   bool          \n",
      " 23  MultipleLines_No                         7043 non-null   bool          \n",
      " 24  MultipleLines_Yes                        7043 non-null   bool          \n",
      " 25  is_churn                                 7043 non-null   int64         \n",
      " 26  Duration                                 7043 non-null   float64       \n",
      "dtypes: bool(8), datetime64[ns](2), float64(4), int64(12), object(1)\n",
      "memory usage: 1.1+ MB\n",
      "None\n",
      "------------------------------Duplicados------------------------------\n",
      "0\n",
      "------------------------------Valores nulos------------------------------\n",
      "customerID                                    0\n",
      "BeginDate                                     0\n",
      "EndDate                                    5174\n",
      "PaperlessBilling                              0\n",
      "MonthlyCharges                                0\n",
      "TotalCharges                                  0\n",
      "OnlineSecurity                                0\n",
      "OnlineBackup                                  0\n",
      "DeviceProtection                              0\n",
      "TechSupport                                   0\n",
      "StreamingTV                                   0\n",
      "StreamingMovies                               0\n",
      "gender                                        0\n",
      "SeniorCitizen                                 0\n",
      "Partner                                       0\n",
      "Dependents                                    0\n",
      "Type_encoded                                  0\n",
      "PaymentMethod_Bank transfer (automatic)       0\n",
      "PaymentMethod_Credit card (automatic)         0\n",
      "PaymentMethod_Electronic check                0\n",
      "PaymentMethod_Mailed check                    0\n",
      "InternetService_DSL                           0\n",
      "InternetService_Fiber optic                   0\n",
      "MultipleLines_No                              0\n",
      "MultipleLines_Yes                             0\n",
      "is_churn                                      0\n",
      "Duration                                      0\n",
      "dtype: int64\n",
      "------------------------------Estadísticas------------------------------\n",
      "                           BeginDate                        EndDate  \\\n",
      "count                           7043                           1869   \n",
      "mean   2017-04-30 13:01:50.918642688  2019-11-15 21:31:18.009630976   \n",
      "min              2013-10-01 00:00:00            2019-10-01 00:00:00   \n",
      "25%              2015-06-01 00:00:00            2019-11-01 00:00:00   \n",
      "50%              2017-09-01 00:00:00            2019-11-01 00:00:00   \n",
      "75%              2019-04-01 00:00:00            2019-12-01 00:00:00   \n",
      "max              2020-02-01 00:00:00            2020-01-01 00:00:00   \n",
      "std                              NaN                            NaN   \n",
      "\n",
      "       PaperlessBilling  MonthlyCharges  TotalCharges  OnlineSecurity  \\\n",
      "count       7043.000000     7043.000000   7043.000000     7043.000000   \n",
      "mean           0.592219       64.761692   2279.734304        0.286668   \n",
      "min            0.000000       18.250000      0.000000        0.000000   \n",
      "25%            0.000000       35.500000    398.550000        0.000000   \n",
      "50%            1.000000       70.350000   1394.550000        0.000000   \n",
      "75%            1.000000       89.850000   3786.600000        1.000000   \n",
      "max            1.000000      118.750000   8684.800000        1.000000   \n",
      "std            0.491457       30.090047   2266.794470        0.452237   \n",
      "\n",
      "       OnlineBackup  DeviceProtection  TechSupport  StreamingTV  \\\n",
      "count   7043.000000       7043.000000  7043.000000  7043.000000   \n",
      "mean       0.344881          0.343888     0.290217     0.384353   \n",
      "min        0.000000          0.000000     0.000000     0.000000   \n",
      "25%        0.000000          0.000000     0.000000     0.000000   \n",
      "50%        0.000000          0.000000     0.000000     0.000000   \n",
      "75%        1.000000          1.000000     1.000000     1.000000   \n",
      "max        1.000000          1.000000     1.000000     1.000000   \n",
      "std        0.475363          0.475038     0.453895     0.486477   \n",
      "\n",
      "       StreamingMovies       gender  SeniorCitizen      Partner   Dependents  \\\n",
      "count      7043.000000  7043.000000    7043.000000  7043.000000  7043.000000   \n",
      "mean          0.387903     0.495244       0.162147     0.483033     0.299588   \n",
      "min           0.000000     0.000000       0.000000     0.000000     0.000000   \n",
      "25%           0.000000     0.000000       0.000000     0.000000     0.000000   \n",
      "50%           0.000000     0.000000       0.000000     0.000000     0.000000   \n",
      "75%           1.000000     1.000000       0.000000     1.000000     1.000000   \n",
      "max           1.000000     1.000000       1.000000     1.000000     1.000000   \n",
      "std           0.487307     0.500013       0.368612     0.499748     0.458110   \n",
      "\n",
      "       Type_encoded     is_churn     Duration  \n",
      "count   7043.000000  7043.000000  7043.000000  \n",
      "mean       0.690473     0.265370   739.471821  \n",
      "min        0.000000     0.000000     1.000000  \n",
      "25%        0.000000     0.000000    58.900000  \n",
      "50%        0.000000     0.000000  1000.000000  \n",
      "75%        1.000000     1.000000  1000.000000  \n",
      "max        2.000000     1.000000  1000.000000  \n",
      "std        0.833755     0.441561   433.625076  \n"
     ]
    }
   ],
   "source": [
    "exploracion_inicial(data_ml)"
   ]
  },
  {
   "cell_type": "code",
   "execution_count": 49,
   "id": "28e0895a",
   "metadata": {},
   "outputs": [],
   "source": [
    "data_ml.columns = [col.lower().replace(' ', '_') for col in data_ml.columns]"
   ]
  },
  {
   "cell_type": "code",
   "execution_count": 50,
   "id": "b004113a",
   "metadata": {},
   "outputs": [
    {
     "name": "stdout",
     "output_type": "stream",
     "text": [
      "<class 'pandas.core.frame.DataFrame'>\n",
      "RangeIndex: 7043 entries, 0 to 7042\n",
      "Data columns (total 27 columns):\n",
      " #   Column                                   Non-Null Count  Dtype         \n",
      "---  ------                                   --------------  -----         \n",
      " 0   customerid                               7043 non-null   object        \n",
      " 1   begindate                                7043 non-null   datetime64[ns]\n",
      " 2   enddate                                  1869 non-null   datetime64[ns]\n",
      " 3   paperlessbilling                         7043 non-null   int64         \n",
      " 4   monthlycharges                           7043 non-null   float64       \n",
      " 5   totalcharges                             7043 non-null   float64       \n",
      " 6   onlinesecurity                           7043 non-null   int64         \n",
      " 7   onlinebackup                             7043 non-null   int64         \n",
      " 8   deviceprotection                         7043 non-null   int64         \n",
      " 9   techsupport                              7043 non-null   int64         \n",
      " 10  streamingtv                              7043 non-null   int64         \n",
      " 11  streamingmovies                          7043 non-null   int64         \n",
      " 12  gender                                   7043 non-null   int64         \n",
      " 13  seniorcitizen                            7043 non-null   int64         \n",
      " 14  partner                                  7043 non-null   int64         \n",
      " 15  dependents                               7043 non-null   int64         \n",
      " 16  type_encoded                             7043 non-null   float64       \n",
      " 17  paymentmethod_bank_transfer_(automatic)  7043 non-null   bool          \n",
      " 18  paymentmethod_credit_card_(automatic)    7043 non-null   bool          \n",
      " 19  paymentmethod_electronic_check           7043 non-null   bool          \n",
      " 20  paymentmethod_mailed_check               7043 non-null   bool          \n",
      " 21  internetservice_dsl                      7043 non-null   bool          \n",
      " 22  internetservice_fiber_optic              7043 non-null   bool          \n",
      " 23  multiplelines_no                         7043 non-null   bool          \n",
      " 24  multiplelines_yes                        7043 non-null   bool          \n",
      " 25  is_churn                                 7043 non-null   int64         \n",
      " 26  duration                                 7043 non-null   float64       \n",
      "dtypes: bool(8), datetime64[ns](2), float64(4), int64(12), object(1)\n",
      "memory usage: 1.1+ MB\n"
     ]
    }
   ],
   "source": [
    "data_ml.info()"
   ]
  },
  {
   "cell_type": "code",
   "execution_count": 51,
   "id": "c4a3c876",
   "metadata": {},
   "outputs": [
    {
     "data": {
      "text/plain": [
       "is_churn\n",
       "0    0.73463\n",
       "1    0.26537\n",
       "Name: proportion, dtype: float64"
      ]
     },
     "execution_count": 51,
     "metadata": {},
     "output_type": "execute_result"
    }
   ],
   "source": [
    "# Saca porcentaje de is_churn\n",
    "data_ml['is_churn'].value_counts(normalize=True)"
   ]
  },
  {
   "cell_type": "code",
   "execution_count": 52,
   "id": "2f8883d5",
   "metadata": {},
   "outputs": [
    {
     "data": {
      "text/plain": [
       "customerid                                 5174\n",
       "begindate                                  5174\n",
       "enddate                                       0\n",
       "paperlessbilling                           5174\n",
       "monthlycharges                             5174\n",
       "totalcharges                               5174\n",
       "onlinesecurity                             5174\n",
       "onlinebackup                               5174\n",
       "deviceprotection                           5174\n",
       "techsupport                                5174\n",
       "streamingtv                                5174\n",
       "streamingmovies                            5174\n",
       "gender                                     5174\n",
       "seniorcitizen                              5174\n",
       "partner                                    5174\n",
       "dependents                                 5174\n",
       "type_encoded                               5174\n",
       "paymentmethod_bank_transfer_(automatic)    5174\n",
       "paymentmethod_credit_card_(automatic)      5174\n",
       "paymentmethod_electronic_check             5174\n",
       "paymentmethod_mailed_check                 5174\n",
       "internetservice_dsl                        5174\n",
       "internetservice_fiber_optic                5174\n",
       "multiplelines_no                           5174\n",
       "multiplelines_yes                          5174\n",
       "is_churn                                   5174\n",
       "duration                                   5174\n",
       "dtype: int64"
      ]
     },
     "execution_count": 52,
     "metadata": {},
     "output_type": "execute_result"
    }
   ],
   "source": [
    "# Cuenta cuanto valores de duration tienen 1000\n",
    "data_ml[data_ml['duration'] == 1000].count()"
   ]
  },
  {
   "cell_type": "code",
   "execution_count": 53,
   "id": "6bcaf106",
   "metadata": {},
   "outputs": [
    {
     "data": {
      "text/plain": [
       "\"# Ahora, si la duración es menor a 12, asignamos 'duration_0_12' a una nueva columna.\\ndata_ml['duration_0_12'] = np.where(data_ml['duration'] < 12, data_ml['duration'], np.nan)\\n\\n# Si la duración es menor a 24 (y mayor o igual a 12), asignamos 'duration_12_24'\\ndata_ml['duration_12_24'] = np.where((data_ml['duration'] >= 12) & (data_ml['duration'] < 24), data_ml['duration'], np.nan)\\n\\ndata_ml['duration_24_36'] = np.where((data_ml['duration'] >= 24) & (data_ml['duration'] < 36), data_ml['duration'], np.nan)\\ndata_ml['duration_36_48'] = np.where((data_ml['duration'] >= 36) & (data_ml['duration'] < 48), data_ml['duration'], np.nan)\\ndata_ml['duration_48_60'] = np.where((data_ml['duration'] >= 48) & (data_ml['duration'] < 60), data_ml['duration'], np.nan)\\ndata_ml['duration_60_72'] = np.where((data_ml['duration'] >= 60) & (data_ml['duration'] < 72), data_ml['duration'], np.nan)\\ndata_ml['duration_72_84'] = np.where((data_ml['duration'] >= 72) & (data_ml['duration'] < 84), data_ml['duration'], np.nan)\\n\\n# Crear una nueva columna 'duration_active' que sea 1 cuando la 'duration' sea 1000, o NaN en caso contrario\\ndata_ml['duration_active'] = np.where(data_ml['duration'] == 1000, 1, np.nan)\""
      ]
     },
     "execution_count": 53,
     "metadata": {},
     "output_type": "execute_result"
    }
   ],
   "source": [
    "\"\"\"# Ahora, si la duración es menor a 12, asignamos 'duration_0_12' a una nueva columna.\n",
    "data_ml['duration_0_12'] = np.where(data_ml['duration'] < 12, data_ml['duration'], np.nan)\n",
    "\n",
    "# Si la duración es menor a 24 (y mayor o igual a 12), asignamos 'duration_12_24'\n",
    "data_ml['duration_12_24'] = np.where((data_ml['duration'] >= 12) & (data_ml['duration'] < 24), data_ml['duration'], np.nan)\n",
    "\n",
    "data_ml['duration_24_36'] = np.where((data_ml['duration'] >= 24) & (data_ml['duration'] < 36), data_ml['duration'], np.nan)\n",
    "data_ml['duration_36_48'] = np.where((data_ml['duration'] >= 36) & (data_ml['duration'] < 48), data_ml['duration'], np.nan)\n",
    "data_ml['duration_48_60'] = np.where((data_ml['duration'] >= 48) & (data_ml['duration'] < 60), data_ml['duration'], np.nan)\n",
    "data_ml['duration_60_72'] = np.where((data_ml['duration'] >= 60) & (data_ml['duration'] < 72), data_ml['duration'], np.nan)\n",
    "data_ml['duration_72_84'] = np.where((data_ml['duration'] >= 72) & (data_ml['duration'] < 84), data_ml['duration'], np.nan)\n",
    "\n",
    "# Crear una nueva columna 'duration_active' que sea 1 cuando la 'duration' sea 1000, o NaN en caso contrario\n",
    "data_ml['duration_active'] = np.where(data_ml['duration'] == 1000, 1, np.nan)\"\"\""
   ]
  },
  {
   "cell_type": "code",
   "execution_count": 54,
   "id": "f29ddc76",
   "metadata": {},
   "outputs": [
    {
     "name": "stdout",
     "output_type": "stream",
     "text": [
      "<class 'pandas.core.frame.DataFrame'>\n",
      "RangeIndex: 7043 entries, 0 to 7042\n",
      "Data columns (total 27 columns):\n",
      " #   Column                                   Non-Null Count  Dtype         \n",
      "---  ------                                   --------------  -----         \n",
      " 0   customerid                               7043 non-null   object        \n",
      " 1   begindate                                7043 non-null   datetime64[ns]\n",
      " 2   enddate                                  1869 non-null   datetime64[ns]\n",
      " 3   paperlessbilling                         7043 non-null   int64         \n",
      " 4   monthlycharges                           7043 non-null   float64       \n",
      " 5   totalcharges                             7043 non-null   float64       \n",
      " 6   onlinesecurity                           7043 non-null   int64         \n",
      " 7   onlinebackup                             7043 non-null   int64         \n",
      " 8   deviceprotection                         7043 non-null   int64         \n",
      " 9   techsupport                              7043 non-null   int64         \n",
      " 10  streamingtv                              7043 non-null   int64         \n",
      " 11  streamingmovies                          7043 non-null   int64         \n",
      " 12  gender                                   7043 non-null   int64         \n",
      " 13  seniorcitizen                            7043 non-null   int64         \n",
      " 14  partner                                  7043 non-null   int64         \n",
      " 15  dependents                               7043 non-null   int64         \n",
      " 16  type_encoded                             7043 non-null   float64       \n",
      " 17  paymentmethod_bank_transfer_(automatic)  7043 non-null   bool          \n",
      " 18  paymentmethod_credit_card_(automatic)    7043 non-null   bool          \n",
      " 19  paymentmethod_electronic_check           7043 non-null   bool          \n",
      " 20  paymentmethod_mailed_check               7043 non-null   bool          \n",
      " 21  internetservice_dsl                      7043 non-null   bool          \n",
      " 22  internetservice_fiber_optic              7043 non-null   bool          \n",
      " 23  multiplelines_no                         7043 non-null   bool          \n",
      " 24  multiplelines_yes                        7043 non-null   bool          \n",
      " 25  is_churn                                 7043 non-null   int64         \n",
      " 26  duration                                 7043 non-null   float64       \n",
      "dtypes: bool(8), datetime64[ns](2), float64(4), int64(12), object(1)\n",
      "memory usage: 1.1+ MB\n"
     ]
    }
   ],
   "source": [
    "data_ml.info()"
   ]
  },
  {
   "cell_type": "code",
   "execution_count": 55,
   "id": "869df192",
   "metadata": {},
   "outputs": [
    {
     "name": "stderr",
     "output_type": "stream",
     "text": [
      "/var/folders/sy/fk_t21qs7qv3xc99jxz4q50m0000gn/T/ipykernel_37563/1911805496.py:1: FutureWarning: Setting an item of incompatible dtype is deprecated and will raise an error in a future version of pandas. Value '0' has dtype incompatible with datetime64[ns], please explicitly cast to a compatible dtype first.\n",
      "  data_ml.fillna(0, inplace=True)\n"
     ]
    }
   ],
   "source": [
    "data_ml.fillna(0, inplace=True)"
   ]
  },
  {
   "cell_type": "code",
   "execution_count": 56,
   "id": "e49c5c51",
   "metadata": {},
   "outputs": [],
   "source": [
    "# Crea lags\n",
    "lags = [7, 14, 30, 60, 90]\n",
    "for lag in lags:\n",
    "    data_ml[f'lag_{lag}'] = data_ml['is_churn'].shift(lag)\n",
    "# Elimina las filas con nulos\n",
    "data_ml.dropna(inplace=True)"
   ]
  },
  {
   "cell_type": "code",
   "execution_count": 57,
   "id": "86e4fa07",
   "metadata": {},
   "outputs": [
    {
     "name": "stdout",
     "output_type": "stream",
     "text": [
      "<class 'pandas.core.frame.DataFrame'>\n",
      "Index: 6953 entries, 90 to 7042\n",
      "Data columns (total 32 columns):\n",
      " #   Column                                   Non-Null Count  Dtype         \n",
      "---  ------                                   --------------  -----         \n",
      " 0   customerid                               6953 non-null   object        \n",
      " 1   begindate                                6953 non-null   datetime64[ns]\n",
      " 2   enddate                                  6953 non-null   object        \n",
      " 3   paperlessbilling                         6953 non-null   int64         \n",
      " 4   monthlycharges                           6953 non-null   float64       \n",
      " 5   totalcharges                             6953 non-null   float64       \n",
      " 6   onlinesecurity                           6953 non-null   int64         \n",
      " 7   onlinebackup                             6953 non-null   int64         \n",
      " 8   deviceprotection                         6953 non-null   int64         \n",
      " 9   techsupport                              6953 non-null   int64         \n",
      " 10  streamingtv                              6953 non-null   int64         \n",
      " 11  streamingmovies                          6953 non-null   int64         \n",
      " 12  gender                                   6953 non-null   int64         \n",
      " 13  seniorcitizen                            6953 non-null   int64         \n",
      " 14  partner                                  6953 non-null   int64         \n",
      " 15  dependents                               6953 non-null   int64         \n",
      " 16  type_encoded                             6953 non-null   float64       \n",
      " 17  paymentmethod_bank_transfer_(automatic)  6953 non-null   bool          \n",
      " 18  paymentmethod_credit_card_(automatic)    6953 non-null   bool          \n",
      " 19  paymentmethod_electronic_check           6953 non-null   bool          \n",
      " 20  paymentmethod_mailed_check               6953 non-null   bool          \n",
      " 21  internetservice_dsl                      6953 non-null   bool          \n",
      " 22  internetservice_fiber_optic              6953 non-null   bool          \n",
      " 23  multiplelines_no                         6953 non-null   bool          \n",
      " 24  multiplelines_yes                        6953 non-null   bool          \n",
      " 25  is_churn                                 6953 non-null   int64         \n",
      " 26  duration                                 6953 non-null   float64       \n",
      " 27  lag_7                                    6953 non-null   float64       \n",
      " 28  lag_14                                   6953 non-null   float64       \n",
      " 29  lag_30                                   6953 non-null   float64       \n",
      " 30  lag_60                                   6953 non-null   float64       \n",
      " 31  lag_90                                   6953 non-null   float64       \n",
      "dtypes: bool(8), datetime64[ns](1), float64(9), int64(12), object(2)\n",
      "memory usage: 1.4+ MB\n"
     ]
    }
   ],
   "source": [
    "data_ml.info()"
   ]
  },
  {
   "cell_type": "code",
   "execution_count": 58,
   "id": "a28dc98f",
   "metadata": {},
   "outputs": [
    {
     "name": "stdout",
     "output_type": "stream",
     "text": [
      "<class 'pandas.core.frame.DataFrame'>\n",
      "Index: 6953 entries, 90 to 7042\n",
      "Data columns (total 32 columns):\n",
      " #   Column                                   Non-Null Count  Dtype         \n",
      "---  ------                                   --------------  -----         \n",
      " 0   customerid                               6953 non-null   object        \n",
      " 1   begindate                                6953 non-null   datetime64[ns]\n",
      " 2   enddate                                  6953 non-null   object        \n",
      " 3   paperlessbilling                         6953 non-null   int64         \n",
      " 4   monthlycharges                           6953 non-null   float64       \n",
      " 5   totalcharges                             6953 non-null   float64       \n",
      " 6   onlinesecurity                           6953 non-null   int64         \n",
      " 7   onlinebackup                             6953 non-null   int64         \n",
      " 8   deviceprotection                         6953 non-null   int64         \n",
      " 9   techsupport                              6953 non-null   int64         \n",
      " 10  streamingtv                              6953 non-null   int64         \n",
      " 11  streamingmovies                          6953 non-null   int64         \n",
      " 12  gender                                   6953 non-null   int64         \n",
      " 13  seniorcitizen                            6953 non-null   int64         \n",
      " 14  partner                                  6953 non-null   int64         \n",
      " 15  dependents                               6953 non-null   int64         \n",
      " 16  type_encoded                             6953 non-null   float64       \n",
      " 17  paymentmethod_bank_transfer_(automatic)  6953 non-null   bool          \n",
      " 18  paymentmethod_credit_card_(automatic)    6953 non-null   bool          \n",
      " 19  paymentmethod_electronic_check           6953 non-null   bool          \n",
      " 20  paymentmethod_mailed_check               6953 non-null   bool          \n",
      " 21  internetservice_dsl                      6953 non-null   bool          \n",
      " 22  internetservice_fiber_optic              6953 non-null   bool          \n",
      " 23  multiplelines_no                         6953 non-null   bool          \n",
      " 24  multiplelines_yes                        6953 non-null   bool          \n",
      " 25  is_churn                                 6953 non-null   int64         \n",
      " 26  duration                                 6953 non-null   float64       \n",
      " 27  lag_7                                    6953 non-null   float64       \n",
      " 28  lag_14                                   6953 non-null   float64       \n",
      " 29  lag_30                                   6953 non-null   float64       \n",
      " 30  lag_60                                   6953 non-null   float64       \n",
      " 31  lag_90                                   6953 non-null   float64       \n",
      "dtypes: bool(8), datetime64[ns](1), float64(9), int64(12), object(2)\n",
      "memory usage: 1.4+ MB\n"
     ]
    }
   ],
   "source": [
    "data_ml.info()"
   ]
  },
  {
   "cell_type": "code",
   "execution_count": 59,
   "id": "89b09034",
   "metadata": {},
   "outputs": [],
   "source": [
    "df_ml = data_ml.drop(['customerid', 'begindate', 'enddate'], axis=1)"
   ]
  },
  {
   "cell_type": "code",
   "execution_count": 60,
   "id": "fab8f4b2",
   "metadata": {},
   "outputs": [
    {
     "name": "stdout",
     "output_type": "stream",
     "text": [
      "<class 'pandas.core.frame.DataFrame'>\n",
      "Index: 6953 entries, 90 to 7042\n",
      "Data columns (total 29 columns):\n",
      " #   Column                                   Non-Null Count  Dtype  \n",
      "---  ------                                   --------------  -----  \n",
      " 0   paperlessbilling                         6953 non-null   int64  \n",
      " 1   monthlycharges                           6953 non-null   float64\n",
      " 2   totalcharges                             6953 non-null   float64\n",
      " 3   onlinesecurity                           6953 non-null   int64  \n",
      " 4   onlinebackup                             6953 non-null   int64  \n",
      " 5   deviceprotection                         6953 non-null   int64  \n",
      " 6   techsupport                              6953 non-null   int64  \n",
      " 7   streamingtv                              6953 non-null   int64  \n",
      " 8   streamingmovies                          6953 non-null   int64  \n",
      " 9   gender                                   6953 non-null   int64  \n",
      " 10  seniorcitizen                            6953 non-null   int64  \n",
      " 11  partner                                  6953 non-null   int64  \n",
      " 12  dependents                               6953 non-null   int64  \n",
      " 13  type_encoded                             6953 non-null   float64\n",
      " 14  paymentmethod_bank_transfer_(automatic)  6953 non-null   bool   \n",
      " 15  paymentmethod_credit_card_(automatic)    6953 non-null   bool   \n",
      " 16  paymentmethod_electronic_check           6953 non-null   bool   \n",
      " 17  paymentmethod_mailed_check               6953 non-null   bool   \n",
      " 18  internetservice_dsl                      6953 non-null   bool   \n",
      " 19  internetservice_fiber_optic              6953 non-null   bool   \n",
      " 20  multiplelines_no                         6953 non-null   bool   \n",
      " 21  multiplelines_yes                        6953 non-null   bool   \n",
      " 22  is_churn                                 6953 non-null   int64  \n",
      " 23  duration                                 6953 non-null   float64\n",
      " 24  lag_7                                    6953 non-null   float64\n",
      " 25  lag_14                                   6953 non-null   float64\n",
      " 26  lag_30                                   6953 non-null   float64\n",
      " 27  lag_60                                   6953 non-null   float64\n",
      " 28  lag_90                                   6953 non-null   float64\n",
      "dtypes: bool(8), float64(9), int64(12)\n",
      "memory usage: 1.2 MB\n"
     ]
    }
   ],
   "source": [
    "df_ml.info()"
   ]
  },
  {
   "cell_type": "code",
   "execution_count": 61,
   "id": "30f761b9",
   "metadata": {},
   "outputs": [],
   "source": [
    "df_ml.fillna(0, inplace=True)"
   ]
  },
  {
   "cell_type": "code",
   "execution_count": 62,
   "id": "59031786",
   "metadata": {},
   "outputs": [],
   "source": [
    "# Train test split\n",
    "from sklearn.model_selection import train_test_split\n",
    "X = df_ml.drop('is_churn', axis=1)\n",
    "y = df_ml['is_churn']\n",
    "X_train, X_test, y_train, y_test = train_test_split(X, y, test_size=0.3, random_state=42)"
   ]
  },
  {
   "cell_type": "markdown",
   "id": "cb0f3a9b",
   "metadata": {},
   "source": [
    "# Modeling"
   ]
  },
  {
   "cell_type": "code",
   "execution_count": 63,
   "id": "5405d7c3",
   "metadata": {},
   "outputs": [],
   "source": [
    "# Escalar los datos\n",
    "from sklearn.preprocessing import StandardScaler\n",
    "\n",
    "scaler = StandardScaler()\n",
    "X_train_scaled = scaler.fit_transform(X_train)\n",
    "X_test_scaled = scaler.transform(X_test)\n"
   ]
  },
  {
   "cell_type": "code",
   "execution_count": 64,
   "id": "74efeea3",
   "metadata": {},
   "outputs": [
    {
     "name": "stdout",
     "output_type": "stream",
     "text": [
      "Classification Report:\n",
      "              precision    recall  f1-score   support\n",
      "\n",
      "           0       1.00      1.00      1.00      1512\n",
      "           1       1.00      1.00      1.00       574\n",
      "\n",
      "    accuracy                           1.00      2086\n",
      "   macro avg       1.00      1.00      1.00      2086\n",
      "weighted avg       1.00      1.00      1.00      2086\n",
      "\n",
      "\n",
      "Confusion Matrix:\n",
      "[[1512    0]\n",
      " [   0  574]]\n",
      "\n",
      "Accuracy Score: 1.0\n",
      "\n",
      "AUC Score: 1.0\n"
     ]
    },
    {
     "data": {
      "image/png": "[encoded data removed]",
      "text/plain": [
       "<Figure size 800x600 with 1 Axes>"
      ]
     },
     "metadata": {},
     "output_type": "display_data"
    }
   ],
   "source": [
    "from sklearn.linear_model import LogisticRegression\n",
    "from sklearn.metrics import classification_report, confusion_matrix, accuracy_score\n",
    "from sklearn.metrics import roc_auc_score, roc_curve, precision_score, recall_score, f1_score\n",
    "import matplotlib.pyplot as plt\n",
    "\n",
    "# Inicialización del modelo con class_weight='balanced'\n",
    "logreg = LogisticRegression(max_iter=100, class_weight='balanced', penalty='l2', C=0.1)\n",
    "\n",
    "# Entrenamiento\n",
    "logreg.fit(X_train_scaled, y_train)\n",
    "\n",
    "# Predicciones\n",
    "y_pred = logreg.predict(X_test_scaled)\n",
    "y_pred_prob = logreg.predict_proba(X_test_scaled)[:, 1]  # Probabilidades de la clase positiva\n",
    "\n",
    "# Resultados\n",
    "print(\"Classification Report:\")\n",
    "print(classification_report(y_test, y_pred))\n",
    "print(\"\\nConfusion Matrix:\")\n",
    "print(confusion_matrix(y_test, y_pred))\n",
    "print(\"\\nAccuracy Score:\", accuracy_score(y_test, y_pred))\n",
    "print(\"\\nAUC Score:\", roc_auc_score(y_test, y_pred_prob))\n",
    "\n",
    "# Curva ROC\n",
    "fpr, tpr, thresholds = roc_curve(y_test, y_pred_prob)\n",
    "plt.figure(figsize=(8, 6))\n",
    "plt.plot(fpr, tpr, color='darkorange', lw=2, label='ROC curve (AUC = %0.2f)' % roc_auc_score(y_test, y_pred_prob))\n",
    "plt.plot([0, 1], [0, 1], color='navy', lw=2, linestyle='--')\n",
    "plt.xlabel('False Positive Rate')\n",
    "plt.ylabel('True Positive Rate')\n",
    "plt.title('Receiver Operating Characteristic (ROC) Curve')\n",
    "plt.legend(loc='lower right')\n",
    "plt.show()\n"
   ]
  },
  {
   "cell_type": "code",
   "execution_count": 65,
   "id": "c330d795",
   "metadata": {},
   "outputs": [],
   "source": [
    "from sklearn.ensemble import RandomForestClassifier\n",
    "from sklearn.model_selection import GridSearchCV\n",
    "from sklearn.metrics import classification_report, confusion_matrix, accuracy_score, roc_auc_score, roc_curve\n",
    "import matplotlib.pyplot as plt\n",
    "import numpy as np\n",
    "\n",
    "def train_random_forest(X_train, y_train, X_val, y_val):\n",
    "    param_grid = {\n",
    "        'max_depth': [5, 10, 15],\n",
    "        'min_samples_split': [2, 5],\n",
    "        'min_samples_leaf': [1, 2],\n",
    "        'bootstrap': [True, False]\n",
    "    }\n",
    "    forest = RandomForestClassifier(random_state=42, n_estimators=100)\n",
    "    grid = GridSearchCV(forest, param_grid, cv=3, scoring='roc_auc', n_jobs=-1)\n",
    "    grid.fit(X_train, y_train)\n",
    "    best_model = grid.best_estimator_\n",
    "\n",
    "    best_model.set_params(n_estimators=500)\n",
    "    y_pred = best_model.predict(X_val)\n",
    "    y_pred_prob = best_model.predict_proba(X_val)[:, 1]  # Probabilidades para la clase positiva\n",
    "\n",
    "    # Resultados de clasificación\n",
    "    print(\"Classification Report:\")\n",
    "    print(classification_report(y_val, y_pred))\n",
    "    print(\"\\nConfusion Matrix:\")\n",
    "    print(confusion_matrix(y_val, y_pred))\n",
    "    print(\"\\nAccuracy Score:\", accuracy_score(y_val, y_pred))\n",
    "    print(\"\\nAUC Score:\", roc_auc_score(y_val, y_pred_prob))\n",
    "\n",
    "    # Curva ROC\n",
    "    fpr, tpr, thresholds = roc_curve(y_val, y_pred_prob)\n",
    "    plt.figure(figsize=(8, 6))\n",
    "    plt.plot(fpr, tpr, color='darkorange', lw=2, label='ROC curve (AUC = %0.2f)' % roc_auc_score(y_val, y_pred_prob))\n",
    "    plt.plot([0, 1], [0, 1], color='navy', lw=2, linestyle='--')\n",
    "    plt.xlabel('False Positive Rate')\n",
    "    plt.ylabel('True Positive Rate')\n",
    "    plt.title('Receiver Operating Characteristic (ROC) Curve')\n",
    "    plt.legend(loc='lower right')\n",
    "    plt.show()\n",
    "\n",
    "    return best_model\n"
   ]
  },
  {
   "cell_type": "code",
   "execution_count": 66,
   "id": "2f7689c9",
   "metadata": {},
   "outputs": [
    {
     "name": "stdout",
     "output_type": "stream",
     "text": [
      "Classification Report:\n",
      "              precision    recall  f1-score   support\n",
      "\n",
      "           0       1.00      1.00      1.00      1512\n",
      "           1       1.00      1.00      1.00       574\n",
      "\n",
      "    accuracy                           1.00      2086\n",
      "   macro avg       1.00      1.00      1.00      2086\n",
      "weighted avg       1.00      1.00      1.00      2086\n",
      "\n",
      "\n",
      "Confusion Matrix:\n",
      "[[1512    0]\n",
      " [   0  574]]\n",
      "\n",
      "Accuracy Score: 1.0\n",
      "\n",
      "AUC Score: 1.0\n"
     ]
    },
    {
     "data": {
      "image/png": "[encoded data removed]",
      "text/plain": [
       "<Figure size 800x600 with 1 Axes>"
      ]
     },
     "metadata": {},
     "output_type": "display_data"
    }
   ],
   "source": [
    "rf_model= train_random_forest(X_train_scaled, y_train, X_test_scaled, y_test)"
   ]
  },
  {
   "cell_type": "code",
   "execution_count": 67,
   "id": "b0ce3d9c",
   "metadata": {},
   "outputs": [],
   "source": [
    "from sklearn.ensemble import AdaBoostClassifier\n",
    "from sklearn.model_selection import GridSearchCV\n",
    "from sklearn.metrics import classification_report, confusion_matrix, accuracy_score, roc_auc_score, roc_curve\n",
    "import numpy as np\n",
    "import matplotlib.pyplot as plt\n",
    "\n",
    "def train_adaboost(X_train, y_train, X_val, y_val):\n",
    "    param_grid = {\n",
    "        'learning_rate': [0.01, 0.1, 1.0]\n",
    "    }\n",
    "    ada = AdaBoostClassifier(random_state=42, n_estimators=100)\n",
    "    grid = GridSearchCV(ada, param_grid, cv=3, scoring='roc_auc', n_jobs=-1)\n",
    "    grid.fit(X_train, y_train)\n",
    "    best_model = grid.best_estimator_\n",
    "    \n",
    "    best_model.set_params(n_estimators=500)\n",
    "    y_pred = best_model.predict(X_val)\n",
    "    y_pred_prob = best_model.predict_proba(X_val)[:, 1]  # Probabilidades para la clase positiva\n",
    "\n",
    "    # Resultados de clasificación\n",
    "    print(\"Classification Report:\")\n",
    "    print(classification_report(y_val, y_pred))\n",
    "    print(\"\\nConfusion Matrix:\")\n",
    "    print(confusion_matrix(y_val, y_pred))\n",
    "    print(\"\\nAccuracy Score:\", accuracy_score(y_val, y_pred))\n",
    "    print(\"\\nAUC Score:\", roc_auc_score(y_val, y_pred_prob))\n",
    "\n",
    "    # Curva ROC\n",
    "    fpr, tpr, thresholds = roc_curve(y_val, y_pred_prob)\n",
    "    plt.figure(figsize=(8, 6))\n",
    "    plt.plot(fpr, tpr, color='darkorange', lw=2, label='ROC curve (AUC = %0.2f)' % roc_auc_score(y_val, y_pred_prob))\n",
    "    plt.plot([0, 1], [0, 1], color='navy', lw=2, linestyle='--')\n",
    "    plt.xlabel('False Positive Rate')\n",
    "    plt.ylabel('True Positive Rate')\n",
    "    plt.title('Receiver Operating Characteristic (ROC) Curve')\n",
    "    plt.legend(loc='lower right')\n",
    "    plt.show()\n",
    "\n",
    "    return best_model\n"
   ]
  },
  {
   "cell_type": "code",
   "execution_count": 68,
   "id": "510dc912",
   "metadata": {},
   "outputs": [
    {
     "name": "stdout",
     "output_type": "stream",
     "text": [
      "Classification Report:\n",
      "              precision    recall  f1-score   support\n",
      "\n",
      "           0       1.00      1.00      1.00      1512\n",
      "           1       1.00      1.00      1.00       574\n",
      "\n",
      "    accuracy                           1.00      2086\n",
      "   macro avg       1.00      1.00      1.00      2086\n",
      "weighted avg       1.00      1.00      1.00      2086\n",
      "\n",
      "\n",
      "Confusion Matrix:\n",
      "[[1512    0]\n",
      " [   0  574]]\n",
      "\n",
      "Accuracy Score: 1.0\n",
      "\n",
      "AUC Score: 1.0\n"
     ]
    },
    {
     "data": {
      "image/png": "[encoded data removed]",
      "text/plain": [
       "<Figure size 800x600 with 1 Axes>"
      ]
     },
     "metadata": {},
     "output_type": "display_data"
    }
   ],
   "source": [
    "ab_model= train_adaboost(X_train_scaled, y_train, X_test_scaled, y_test)"
   ]
  },
  {
   "cell_type": "markdown",
   "id": "b0b0cf90",
   "metadata": {},
   "source": [
    "# Evaluation"
   ]
  },
  {
   "cell_type": "markdown",
   "id": "9f38b25f",
   "metadata": {},
   "source": [
    "Existe overfitting en todos los modelos. Lo mas probable debido a la forma en la que se manejaron los datos."
   ]
  },
  {
   "cell_type": "markdown",
   "id": "2a4cf5af",
   "metadata": {},
   "source": [
    "# Deployment"
   ]
  },
  {
   "cell_type": "markdown",
   "id": "3f5f8bbc",
   "metadata": {},
   "source": [
    "### 1. **Integración del Modelo en Producción**\n",
    "\n",
    "* Desarrolla una API o microservicio que permita realizar predicciones en tiempo real.\n",
    "* Usa frameworks como **Flask** o **FastAPI** para la exposición del modelo.\n",
    "* Asegúrate de que los datos de entrada sean consistentes con los datos usados en el entrenamiento del modelo.\n",
    "\n",
    "### 2. **Monitoreo de Deriva de Datos**\n",
    "\n",
    "* Implementa herramientas como **EvidentlyAI** o **Scikit-Multiflow** para monitorear la deriva de datos.\n",
    "* Monitorea variables clave como la distribución de características y el rendimiento del modelo en producción (usando métricas como la **AUC** o **accuracy**).\n",
    "* Establece umbrales de alerta para cuando se detecten cambios significativos en los datos.\n",
    "\n",
    "### 3. **Estrategia de Descuentos**\n",
    "\n",
    "* Crea un sistema basado en el comportamiento del cliente y en las predicciones del modelo para ajustar dinámicamente los descuentos.\n",
    "* Analiza patrones históricos para ajustar precios de forma eficiente utilizando **optimización** o **algoritmos de precios dinámicos**.\n",
    "\n",
    "### 4. **Mejorar el Manejo de Datos**\n",
    "\n",
    "* Implementa **tuberías de procesamiento de datos** usando **mage** para automatizar el flujo de datos.\n",
    "\n",
    "### 5. **Detección de Overfitting y Optimización del Modelo**\n",
    "\n",
    "* Implementa técnicas de validación cruzada y ajuste de hiperparámetros (usando **GridSearchCV** o **RandomizedSearchCV**) para evitar el overfitting.\n",
    "* Usa **regularización** (L1/L2) para reducir la complejidad del modelo.\n",
    "* Monitorea el **error en el entrenamiento y prueba** para detectar posibles problemas de sobreajuste.\n"
   ]
  },
  {
   "cell_type": "markdown",
   "id": "a11d9669",
   "metadata": {},
   "source": []
  }
 ],
 "metadata": {
  "kernelspec": {
   "display_name": "dataMining",
   "language": "python",
   "name": "python3"
  },
  "language_info": {
   "codemirror_mode": {
    "name": "ipython",
    "version": 3
   },
   "file_extension": ".py",
   "mimetype": "text/x-python",
   "name": "python",
   "nbconvert_exporter": "python",
   "pygments_lexer": "ipython3",
   "version": "3.9.21"
  }
 },
 "nbformat": 4,
 "nbformat_minor": 5
}
