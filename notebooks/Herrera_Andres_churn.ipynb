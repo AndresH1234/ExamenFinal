{
 "cells": [
  {
   "cell_type": "markdown",
   "id": "b3e49875",
   "metadata": {},
   "source": [
    "# Business Understanding"
   ]
  },
  {
   "cell_type": "markdown",
   "id": "df5bdac8",
   "metadata": {},
   "source": [
    "**Problema**: ¿Cómo podemos identificar a los clientes con mayor riesgo de abandono para intervenir de forma proactiva y reducir la tasa de cancelación?\n",
    "**Hipotesis**: \n",
    "- Los clientes con contratos mensuales tienen mayor probabilidad de abandonar que aquellos con contratos a largo plazo.\n",
    "\n",
    "- El uso de métodos de pago electrónicos automáticos se asocia a una menor tasa de cancelación.\n",
    "\n",
    "- Clientes con múltiples servicios (internet + teléfono) tienen menor tasa de abandono debido a una mayor dependencia del proveedor.\n",
    "\n",
    "- Los clientes mayores de 60 años tienen una menor propensión a cancelar su suscripción.\n",
    "\n",
    "- Una factura mensual más elevada puede estar asociada a una mayor probabilidad de cancelación, especialmente si no hay valor percibido adicional.\n",
    "\n",
    "**KPI**:\n",
    "- F1-Score: balance entre precisión y recall.\n",
    "\n",
    "- AUC-ROC: capacidad del modelo para discriminar entre clases.\n",
    "\n",
    "Negocio:\n",
    "- Reducción de la tasa de cancelación: diferencia porcentual antes y después de aplicar las acciones basadas en el modelo.\n",
    "\n",
    "- Retorno de la inversión (ROI) de promociones: relación entre el costo de los códigos promocionales entregados y los ingresos conservados.\n",
    "\n",
    "- Tasa de retención de clientes en riesgo: porcentaje de clientes en riesgo que permanecen tras recibir una oferta personalizada."
   ]
  },
  {
   "cell_type": "markdown",
   "id": "42b63086",
   "metadata": {},
   "source": [
    "# Data Understanding"
   ]
  },
  {
   "cell_type": "code",
   "execution_count": 1,
   "id": "6f110fa1",
   "metadata": {},
   "outputs": [],
   "source": [
    "import pandas as pd\n",
    "import numpy as np\n",
    "import matplotlib.pyplot as plt\n",
    "import seaborn as sns"
   ]
  },
  {
   "cell_type": "code",
   "execution_count": 2,
   "id": "5d50a2a0",
   "metadata": {},
   "outputs": [],
   "source": [
    "contract = pd.read_csv('../data/contract.csv')\n",
    "internet = pd.read_csv('../data/internet.csv')\n",
    "personal = pd.read_csv('../data/personal.csv')\n",
    "phone = pd.read_csv('../data/phone.csv')"
   ]
  },
  {
   "cell_type": "code",
   "execution_count": 3,
   "id": "79a0c9ed",
   "metadata": {},
   "outputs": [],
   "source": [
    "def exploracion_inicial(df):\n",
    "    # Head\n",
    "    print('-'*30 + 'Primeras 10 filas' + '-'*30)\n",
    "    print(df.head(10))\n",
    "    # Estructura de la tabla\n",
    "    print('-'*30 + 'Estructura de la tabla' + '-'*30)\n",
    "    print(df.info())\n",
    "    # Duplicados\n",
    "    print('-'*30 + 'Duplicados' + '-'*30)\n",
    "    print(df.duplicated().sum())\n",
    "    # Valores nulos\n",
    "    print('-'*30 + 'Valores nulos' + '-'*30)\n",
    "    print(df.isnull().sum())\n",
    "    # Estadísticas\n",
    "    print('-'*30 + 'Estadísticas' + '-'*30)\n",
    "    print(df.describe())"
   ]
  },
  {
   "cell_type": "code",
   "execution_count": 4,
   "id": "2f0b7d05",
   "metadata": {},
   "outputs": [
    {
     "name": "stdout",
     "output_type": "stream",
     "text": [
      "------------------------------Primeras 10 filas------------------------------\n",
      "   customerID   BeginDate              EndDate            Type  \\\n",
      "0  7590-VHVEG  2020-01-01                   No  Month-to-month   \n",
      "1  5575-GNVDE  2017-04-01                   No        One year   \n",
      "2  3668-QPYBK  2019-10-01  2019-12-01 00:00:00  Month-to-month   \n",
      "3  7795-CFOCW  2016-05-01                   No        One year   \n",
      "4  9237-HQITU  2019-09-01  2019-11-01 00:00:00  Month-to-month   \n",
      "5  9305-CDSKC  2019-03-01  2019-11-01 00:00:00  Month-to-month   \n",
      "6  1452-KIOVK  2018-04-01                   No  Month-to-month   \n",
      "7  6713-OKOMC  2019-04-01                   No  Month-to-month   \n",
      "8  7892-POOKP  2017-07-01  2019-11-01 00:00:00  Month-to-month   \n",
      "9  6388-TABGU  2014-12-01                   No        One year   \n",
      "\n",
      "  PaperlessBilling              PaymentMethod  MonthlyCharges TotalCharges  \n",
      "0              Yes           Electronic check           29.85        29.85  \n",
      "1               No               Mailed check           56.95       1889.5  \n",
      "2              Yes               Mailed check           53.85       108.15  \n",
      "3               No  Bank transfer (automatic)           42.30      1840.75  \n",
      "4              Yes           Electronic check           70.70       151.65  \n",
      "5              Yes           Electronic check           99.65        820.5  \n",
      "6              Yes    Credit card (automatic)           89.10       1949.4  \n",
      "7               No               Mailed check           29.75        301.9  \n",
      "8              Yes           Electronic check          104.80      3046.05  \n",
      "9               No  Bank transfer (automatic)           56.15      3487.95  \n",
      "------------------------------Estructura de la tabla------------------------------\n",
      "<class 'pandas.core.frame.DataFrame'>\n",
      "RangeIndex: 7043 entries, 0 to 7042\n",
      "Data columns (total 8 columns):\n",
      " #   Column            Non-Null Count  Dtype  \n",
      "---  ------            --------------  -----  \n",
      " 0   customerID        7043 non-null   object \n",
      " 1   BeginDate         7043 non-null   object \n",
      " 2   EndDate           7043 non-null   object \n",
      " 3   Type              7043 non-null   object \n",
      " 4   PaperlessBilling  7043 non-null   object \n",
      " 5   PaymentMethod     7043 non-null   object \n",
      " 6   MonthlyCharges    7043 non-null   float64\n",
      " 7   TotalCharges      7043 non-null   object \n",
      "dtypes: float64(1), object(7)\n",
      "memory usage: 440.3+ KB\n",
      "None\n",
      "------------------------------Duplicados------------------------------\n",
      "0\n",
      "------------------------------Valores nulos------------------------------\n",
      "customerID          0\n",
      "BeginDate           0\n",
      "EndDate             0\n",
      "Type                0\n",
      "PaperlessBilling    0\n",
      "PaymentMethod       0\n",
      "MonthlyCharges      0\n",
      "TotalCharges        0\n",
      "dtype: int64\n",
      "------------------------------Estadísticas------------------------------\n",
      "       MonthlyCharges\n",
      "count     7043.000000\n",
      "mean        64.761692\n",
      "std         30.090047\n",
      "min         18.250000\n",
      "25%         35.500000\n",
      "50%         70.350000\n",
      "75%         89.850000\n",
      "max        118.750000\n"
     ]
    }
   ],
   "source": [
    "exploracion_inicial(contract)"
   ]
  },
  {
   "cell_type": "code",
   "execution_count": 5,
   "id": "da9269f9",
   "metadata": {},
   "outputs": [
    {
     "name": "stdout",
     "output_type": "stream",
     "text": [
      "------------------------------Primeras 10 filas------------------------------\n",
      "   customerID InternetService OnlineSecurity OnlineBackup DeviceProtection  \\\n",
      "0  7590-VHVEG             DSL             No          Yes               No   \n",
      "1  5575-GNVDE             DSL            Yes           No              Yes   \n",
      "2  3668-QPYBK             DSL            Yes          Yes               No   \n",
      "3  7795-CFOCW             DSL            Yes           No              Yes   \n",
      "4  9237-HQITU     Fiber optic             No           No               No   \n",
      "5  9305-CDSKC     Fiber optic             No           No              Yes   \n",
      "6  1452-KIOVK     Fiber optic             No          Yes               No   \n",
      "7  6713-OKOMC             DSL            Yes           No               No   \n",
      "8  7892-POOKP     Fiber optic             No           No              Yes   \n",
      "9  6388-TABGU             DSL            Yes          Yes               No   \n",
      "\n",
      "  TechSupport StreamingTV StreamingMovies  \n",
      "0          No          No              No  \n",
      "1          No          No              No  \n",
      "2          No          No              No  \n",
      "3         Yes          No              No  \n",
      "4          No          No              No  \n",
      "5          No         Yes             Yes  \n",
      "6          No         Yes              No  \n",
      "7          No          No              No  \n",
      "8         Yes         Yes             Yes  \n",
      "9          No          No              No  \n",
      "------------------------------Estructura de la tabla------------------------------\n",
      "<class 'pandas.core.frame.DataFrame'>\n",
      "RangeIndex: 5517 entries, 0 to 5516\n",
      "Data columns (total 8 columns):\n",
      " #   Column            Non-Null Count  Dtype \n",
      "---  ------            --------------  ----- \n",
      " 0   customerID        5517 non-null   object\n",
      " 1   InternetService   5517 non-null   object\n",
      " 2   OnlineSecurity    5517 non-null   object\n",
      " 3   OnlineBackup      5517 non-null   object\n",
      " 4   DeviceProtection  5517 non-null   object\n",
      " 5   TechSupport       5517 non-null   object\n",
      " 6   StreamingTV       5517 non-null   object\n",
      " 7   StreamingMovies   5517 non-null   object\n",
      "dtypes: object(8)\n",
      "memory usage: 344.9+ KB\n",
      "None\n",
      "------------------------------Duplicados------------------------------\n",
      "0\n",
      "------------------------------Valores nulos------------------------------\n",
      "customerID          0\n",
      "InternetService     0\n",
      "OnlineSecurity      0\n",
      "OnlineBackup        0\n",
      "DeviceProtection    0\n",
      "TechSupport         0\n",
      "StreamingTV         0\n",
      "StreamingMovies     0\n",
      "dtype: int64\n",
      "------------------------------Estadísticas------------------------------\n",
      "        customerID InternetService OnlineSecurity OnlineBackup  \\\n",
      "count         5517            5517           5517         5517   \n",
      "unique        5517               2              2            2   \n",
      "top     7590-VHVEG     Fiber optic             No           No   \n",
      "freq             1            3096           3498         3088   \n",
      "\n",
      "       DeviceProtection TechSupport StreamingTV StreamingMovies  \n",
      "count              5517        5517        5517            5517  \n",
      "unique                2           2           2               2  \n",
      "top                  No          No          No              No  \n",
      "freq               3095        3473        2810            2785  \n"
     ]
    }
   ],
   "source": [
    "exploracion_inicial(internet)"
   ]
  },
  {
   "cell_type": "code",
   "execution_count": 6,
   "id": "932ef2b4",
   "metadata": {},
   "outputs": [
    {
     "name": "stdout",
     "output_type": "stream",
     "text": [
      "------------------------------Primeras 10 filas------------------------------\n",
      "   customerID  gender  SeniorCitizen Partner Dependents\n",
      "0  7590-VHVEG  Female              0     Yes         No\n",
      "1  5575-GNVDE    Male              0      No         No\n",
      "2  3668-QPYBK    Male              0      No         No\n",
      "3  7795-CFOCW    Male              0      No         No\n",
      "4  9237-HQITU  Female              0      No         No\n",
      "5  9305-CDSKC  Female              0      No         No\n",
      "6  1452-KIOVK    Male              0      No        Yes\n",
      "7  6713-OKOMC  Female              0      No         No\n",
      "8  7892-POOKP  Female              0     Yes         No\n",
      "9  6388-TABGU    Male              0      No        Yes\n",
      "------------------------------Estructura de la tabla------------------------------\n",
      "<class 'pandas.core.frame.DataFrame'>\n",
      "RangeIndex: 7043 entries, 0 to 7042\n",
      "Data columns (total 5 columns):\n",
      " #   Column         Non-Null Count  Dtype \n",
      "---  ------         --------------  ----- \n",
      " 0   customerID     7043 non-null   object\n",
      " 1   gender         7043 non-null   object\n",
      " 2   SeniorCitizen  7043 non-null   int64 \n",
      " 3   Partner        7043 non-null   object\n",
      " 4   Dependents     7043 non-null   object\n",
      "dtypes: int64(1), object(4)\n",
      "memory usage: 275.2+ KB\n",
      "None\n",
      "------------------------------Duplicados------------------------------\n",
      "0\n",
      "------------------------------Valores nulos------------------------------\n",
      "customerID       0\n",
      "gender           0\n",
      "SeniorCitizen    0\n",
      "Partner          0\n",
      "Dependents       0\n",
      "dtype: int64\n",
      "------------------------------Estadísticas------------------------------\n",
      "       SeniorCitizen\n",
      "count    7043.000000\n",
      "mean        0.162147\n",
      "std         0.368612\n",
      "min         0.000000\n",
      "25%         0.000000\n",
      "50%         0.000000\n",
      "75%         0.000000\n",
      "max         1.000000\n"
     ]
    }
   ],
   "source": [
    "exploracion_inicial(personal)"
   ]
  },
  {
   "cell_type": "code",
   "execution_count": 7,
   "id": "e37f88bd",
   "metadata": {},
   "outputs": [
    {
     "name": "stdout",
     "output_type": "stream",
     "text": [
      "------------------------------Primeras 10 filas------------------------------\n",
      "   customerID MultipleLines\n",
      "0  5575-GNVDE            No\n",
      "1  3668-QPYBK            No\n",
      "2  9237-HQITU            No\n",
      "3  9305-CDSKC           Yes\n",
      "4  1452-KIOVK           Yes\n",
      "5  7892-POOKP           Yes\n",
      "6  6388-TABGU            No\n",
      "7  9763-GRSKD            No\n",
      "8  7469-LKBCI            No\n",
      "9  8091-TTVAX           Yes\n",
      "------------------------------Estructura de la tabla------------------------------\n",
      "<class 'pandas.core.frame.DataFrame'>\n",
      "RangeIndex: 6361 entries, 0 to 6360\n",
      "Data columns (total 2 columns):\n",
      " #   Column         Non-Null Count  Dtype \n",
      "---  ------         --------------  ----- \n",
      " 0   customerID     6361 non-null   object\n",
      " 1   MultipleLines  6361 non-null   object\n",
      "dtypes: object(2)\n",
      "memory usage: 99.5+ KB\n",
      "None\n",
      "------------------------------Duplicados------------------------------\n",
      "0\n",
      "------------------------------Valores nulos------------------------------\n",
      "customerID       0\n",
      "MultipleLines    0\n",
      "dtype: int64\n",
      "------------------------------Estadísticas------------------------------\n",
      "        customerID MultipleLines\n",
      "count         6361          6361\n",
      "unique        6361             2\n",
      "top     5575-GNVDE            No\n",
      "freq             1          3390\n"
     ]
    }
   ],
   "source": [
    "exploracion_inicial(phone)"
   ]
  },
  {
   "cell_type": "markdown",
   "id": "2c5db818",
   "metadata": {},
   "source": [
    "# Data Preparation"
   ]
  },
  {
   "cell_type": "code",
   "execution_count": 8,
   "id": "183815fa",
   "metadata": {},
   "outputs": [
    {
     "data": {
      "text/plain": [
       "Index(['customerID', 'BeginDate', 'EndDate', 'Type', 'PaperlessBilling',\n",
       "       'PaymentMethod', 'MonthlyCharges', 'TotalCharges', 'InternetService',\n",
       "       'OnlineSecurity', 'OnlineBackup', 'DeviceProtection', 'TechSupport',\n",
       "       'StreamingTV', 'StreamingMovies'],\n",
       "      dtype='object')"
      ]
     },
     "execution_count": 8,
     "metadata": {},
     "output_type": "execute_result"
    }
   ],
   "source": [
    "# Unificación de fuentes\n",
    "data = pd.merge(contract, internet, on='customerID', how='left')\n",
    "data.columns"
   ]
  },
  {
   "cell_type": "code",
   "execution_count": 9,
   "id": "7e64c38d",
   "metadata": {},
   "outputs": [
    {
     "data": {
      "text/plain": [
       "Index(['customerID', 'BeginDate', 'EndDate', 'Type', 'PaperlessBilling',\n",
       "       'PaymentMethod', 'MonthlyCharges', 'TotalCharges', 'InternetService',\n",
       "       'OnlineSecurity', 'OnlineBackup', 'DeviceProtection', 'TechSupport',\n",
       "       'StreamingTV', 'StreamingMovies', 'gender', 'SeniorCitizen', 'Partner',\n",
       "       'Dependents'],\n",
       "      dtype='object')"
      ]
     },
     "execution_count": 9,
     "metadata": {},
     "output_type": "execute_result"
    }
   ],
   "source": [
    "data = pd.merge(data, personal, on='customerID', how='left')\n",
    "data.columns"
   ]
  },
  {
   "cell_type": "code",
   "execution_count": 10,
   "id": "361fd6f3",
   "metadata": {},
   "outputs": [
    {
     "data": {
      "text/plain": [
       "Index(['customerID', 'BeginDate', 'EndDate', 'Type', 'PaperlessBilling',\n",
       "       'PaymentMethod', 'MonthlyCharges', 'TotalCharges', 'InternetService',\n",
       "       'OnlineSecurity', 'OnlineBackup', 'DeviceProtection', 'TechSupport',\n",
       "       'StreamingTV', 'StreamingMovies', 'gender', 'SeniorCitizen', 'Partner',\n",
       "       'Dependents', 'MultipleLines'],\n",
       "      dtype='object')"
      ]
     },
     "execution_count": 10,
     "metadata": {},
     "output_type": "execute_result"
    }
   ],
   "source": [
    "data = pd.merge(data, phone, on='customerID', how='left')\n",
    "data.columns"
   ]
  },
  {
   "cell_type": "code",
   "execution_count": 11,
   "id": "494c145f",
   "metadata": {},
   "outputs": [
    {
     "name": "stdout",
     "output_type": "stream",
     "text": [
      "------------------------------Primeras 10 filas------------------------------\n",
      "   customerID   BeginDate              EndDate            Type  \\\n",
      "0  7590-VHVEG  2020-01-01                   No  Month-to-month   \n",
      "1  5575-GNVDE  2017-04-01                   No        One year   \n",
      "2  3668-QPYBK  2019-10-01  2019-12-01 00:00:00  Month-to-month   \n",
      "3  7795-CFOCW  2016-05-01                   No        One year   \n",
      "4  9237-HQITU  2019-09-01  2019-11-01 00:00:00  Month-to-month   \n",
      "5  9305-CDSKC  2019-03-01  2019-11-01 00:00:00  Month-to-month   \n",
      "6  1452-KIOVK  2018-04-01                   No  Month-to-month   \n",
      "7  6713-OKOMC  2019-04-01                   No  Month-to-month   \n",
      "8  7892-POOKP  2017-07-01  2019-11-01 00:00:00  Month-to-month   \n",
      "9  6388-TABGU  2014-12-01                   No        One year   \n",
      "\n",
      "  PaperlessBilling              PaymentMethod  MonthlyCharges TotalCharges  \\\n",
      "0              Yes           Electronic check           29.85        29.85   \n",
      "1               No               Mailed check           56.95       1889.5   \n",
      "2              Yes               Mailed check           53.85       108.15   \n",
      "3               No  Bank transfer (automatic)           42.30      1840.75   \n",
      "4              Yes           Electronic check           70.70       151.65   \n",
      "5              Yes           Electronic check           99.65        820.5   \n",
      "6              Yes    Credit card (automatic)           89.10       1949.4   \n",
      "7               No               Mailed check           29.75        301.9   \n",
      "8              Yes           Electronic check          104.80      3046.05   \n",
      "9               No  Bank transfer (automatic)           56.15      3487.95   \n",
      "\n",
      "  InternetService OnlineSecurity OnlineBackup DeviceProtection TechSupport  \\\n",
      "0             DSL             No          Yes               No          No   \n",
      "1             DSL            Yes           No              Yes          No   \n",
      "2             DSL            Yes          Yes               No          No   \n",
      "3             DSL            Yes           No              Yes         Yes   \n",
      "4     Fiber optic             No           No               No          No   \n",
      "5     Fiber optic             No           No              Yes          No   \n",
      "6     Fiber optic             No          Yes               No          No   \n",
      "7             DSL            Yes           No               No          No   \n",
      "8     Fiber optic             No           No              Yes         Yes   \n",
      "9             DSL            Yes          Yes               No          No   \n",
      "\n",
      "  StreamingTV StreamingMovies  gender  SeniorCitizen Partner Dependents  \\\n",
      "0          No              No  Female              0     Yes         No   \n",
      "1          No              No    Male              0      No         No   \n",
      "2          No              No    Male              0      No         No   \n",
      "3          No              No    Male              0      No         No   \n",
      "4          No              No  Female              0      No         No   \n",
      "5         Yes             Yes  Female              0      No         No   \n",
      "6         Yes              No    Male              0      No        Yes   \n",
      "7          No              No  Female              0      No         No   \n",
      "8         Yes             Yes  Female              0     Yes         No   \n",
      "9          No              No    Male              0      No        Yes   \n",
      "\n",
      "  MultipleLines  \n",
      "0           NaN  \n",
      "1            No  \n",
      "2            No  \n",
      "3           NaN  \n",
      "4            No  \n",
      "5           Yes  \n",
      "6           Yes  \n",
      "7           NaN  \n",
      "8           Yes  \n",
      "9            No  \n",
      "------------------------------Estructura de la tabla------------------------------\n",
      "<class 'pandas.core.frame.DataFrame'>\n",
      "RangeIndex: 7043 entries, 0 to 7042\n",
      "Data columns (total 20 columns):\n",
      " #   Column            Non-Null Count  Dtype  \n",
      "---  ------            --------------  -----  \n",
      " 0   customerID        7043 non-null   object \n",
      " 1   BeginDate         7043 non-null   object \n",
      " 2   EndDate           7043 non-null   object \n",
      " 3   Type              7043 non-null   object \n",
      " 4   PaperlessBilling  7043 non-null   object \n",
      " 5   PaymentMethod     7043 non-null   object \n",
      " 6   MonthlyCharges    7043 non-null   float64\n",
      " 7   TotalCharges      7043 non-null   object \n",
      " 8   InternetService   5517 non-null   object \n",
      " 9   OnlineSecurity    5517 non-null   object \n",
      " 10  OnlineBackup      5517 non-null   object \n",
      " 11  DeviceProtection  5517 non-null   object \n",
      " 12  TechSupport       5517 non-null   object \n",
      " 13  StreamingTV       5517 non-null   object \n",
      " 14  StreamingMovies   5517 non-null   object \n",
      " 15  gender            7043 non-null   object \n",
      " 16  SeniorCitizen     7043 non-null   int64  \n",
      " 17  Partner           7043 non-null   object \n",
      " 18  Dependents        7043 non-null   object \n",
      " 19  MultipleLines     6361 non-null   object \n",
      "dtypes: float64(1), int64(1), object(18)\n",
      "memory usage: 1.1+ MB\n",
      "None\n",
      "------------------------------Duplicados------------------------------\n",
      "0\n",
      "------------------------------Valores nulos------------------------------\n",
      "customerID             0\n",
      "BeginDate              0\n",
      "EndDate                0\n",
      "Type                   0\n",
      "PaperlessBilling       0\n",
      "PaymentMethod          0\n",
      "MonthlyCharges         0\n",
      "TotalCharges           0\n",
      "InternetService     1526\n",
      "OnlineSecurity      1526\n",
      "OnlineBackup        1526\n",
      "DeviceProtection    1526\n",
      "TechSupport         1526\n",
      "StreamingTV         1526\n",
      "StreamingMovies     1526\n",
      "gender                 0\n",
      "SeniorCitizen          0\n",
      "Partner                0\n",
      "Dependents             0\n",
      "MultipleLines        682\n",
      "dtype: int64\n",
      "------------------------------Estadísticas------------------------------\n",
      "       MonthlyCharges  SeniorCitizen\n",
      "count     7043.000000    7043.000000\n",
      "mean        64.761692       0.162147\n",
      "std         30.090047       0.368612\n",
      "min         18.250000       0.000000\n",
      "25%         35.500000       0.000000\n",
      "50%         70.350000       0.000000\n",
      "75%         89.850000       0.000000\n",
      "max        118.750000       1.000000\n"
     ]
    }
   ],
   "source": [
    "exploracion_inicial(data)"
   ]
  },
  {
   "cell_type": "code",
   "execution_count": 12,
   "id": "969fc768",
   "metadata": {},
   "outputs": [],
   "source": [
    "cols_servicios = ['InternetService', 'OnlineSecurity', 'OnlineBackup', \n",
    "                  'DeviceProtection', 'TechSupport', 'StreamingTV', 'StreamingMovies']\n",
    "\n",
    "for col in cols_servicios:\n",
    "    data[col] = data[col].fillna('No')"
   ]
  },
  {
   "cell_type": "code",
   "execution_count": 13,
   "id": "a758bd78",
   "metadata": {},
   "outputs": [],
   "source": [
    "data['MultipleLines'] = data['MultipleLines'].fillna('No phone service')"
   ]
  },
  {
   "cell_type": "code",
   "execution_count": 14,
   "id": "2a465ad3",
   "metadata": {},
   "outputs": [
    {
     "name": "stdout",
     "output_type": "stream",
     "text": [
      "customerID          0\n",
      "BeginDate           0\n",
      "EndDate             0\n",
      "Type                0\n",
      "PaperlessBilling    0\n",
      "PaymentMethod       0\n",
      "MonthlyCharges      0\n",
      "TotalCharges        0\n",
      "InternetService     0\n",
      "OnlineSecurity      0\n",
      "OnlineBackup        0\n",
      "DeviceProtection    0\n",
      "TechSupport         0\n",
      "StreamingTV         0\n",
      "StreamingMovies     0\n",
      "gender              0\n",
      "SeniorCitizen       0\n",
      "Partner             0\n",
      "Dependents          0\n",
      "MultipleLines       0\n",
      "dtype: int64\n"
     ]
    }
   ],
   "source": [
    "# Ver nulos\n",
    "print(data.isnull().sum())"
   ]
  },
  {
   "cell_type": "code",
   "execution_count": 15,
   "id": "7eeec05c",
   "metadata": {},
   "outputs": [
    {
     "name": "stdout",
     "output_type": "stream",
     "text": [
      "<class 'pandas.core.frame.DataFrame'>\n",
      "RangeIndex: 7043 entries, 0 to 7042\n",
      "Data columns (total 20 columns):\n",
      " #   Column            Non-Null Count  Dtype  \n",
      "---  ------            --------------  -----  \n",
      " 0   customerID        7043 non-null   object \n",
      " 1   BeginDate         7043 non-null   object \n",
      " 2   EndDate           7043 non-null   object \n",
      " 3   Type              7043 non-null   object \n",
      " 4   PaperlessBilling  7043 non-null   object \n",
      " 5   PaymentMethod     7043 non-null   object \n",
      " 6   MonthlyCharges    7043 non-null   float64\n",
      " 7   TotalCharges      7043 non-null   object \n",
      " 8   InternetService   7043 non-null   object \n",
      " 9   OnlineSecurity    7043 non-null   object \n",
      " 10  OnlineBackup      7043 non-null   object \n",
      " 11  DeviceProtection  7043 non-null   object \n",
      " 12  TechSupport       7043 non-null   object \n",
      " 13  StreamingTV       7043 non-null   object \n",
      " 14  StreamingMovies   7043 non-null   object \n",
      " 15  gender            7043 non-null   object \n",
      " 16  SeniorCitizen     7043 non-null   int64  \n",
      " 17  Partner           7043 non-null   object \n",
      " 18  Dependents        7043 non-null   object \n",
      " 19  MultipleLines     7043 non-null   object \n",
      "dtypes: float64(1), int64(1), object(18)\n",
      "memory usage: 1.1+ MB\n",
      "None\n"
     ]
    }
   ],
   "source": [
    "# estructura de la tabla\n",
    "print(data.info())\n"
   ]
  },
  {
   "cell_type": "code",
   "execution_count": 16,
   "id": "57aa533e",
   "metadata": {},
   "outputs": [],
   "source": [
    "# Pasar a fecha BeginDate y EndDate\n",
    "data['BeginDate'] = pd.to_datetime(data['BeginDate'], format='%Y-%m-%d')"
   ]
  },
  {
   "cell_type": "code",
   "execution_count": 17,
   "id": "13f2844f",
   "metadata": {},
   "outputs": [],
   "source": [
    "# Para EndDate si no es no pasar a fecha\n",
    "data['EndDate'] = pd.to_datetime(data['EndDate'], format='%Y-%m-%d %H:%M:%S', errors='coerce')"
   ]
  },
  {
   "cell_type": "code",
   "execution_count": 18,
   "id": "392d111e",
   "metadata": {},
   "outputs": [],
   "source": [
    "data_ml = data.copy()"
   ]
  },
  {
   "cell_type": "code",
   "execution_count": 19,
   "id": "16a1fb43",
   "metadata": {},
   "outputs": [
    {
     "data": {
      "text/plain": [
       "Type\n",
       "Month-to-month    3875\n",
       "Two year          1695\n",
       "One year          1473\n",
       "Name: count, dtype: int64"
      ]
     },
     "execution_count": 19,
     "metadata": {},
     "output_type": "execute_result"
    }
   ],
   "source": [
    "data_ml['Type'].value_counts()"
   ]
  },
  {
   "cell_type": "code",
   "execution_count": 20,
   "id": "9eb757a7",
   "metadata": {},
   "outputs": [],
   "source": [
    "from sklearn.preprocessing import OrdinalEncoder\n",
    "\n",
    "type_order = [['Month-to-month', 'One year', 'Two year']]\n",
    "encoder = OrdinalEncoder(categories=type_order)\n",
    "\n",
    "data_ml['Type_encoded'] = encoder.fit_transform(data_ml[['Type']])\n",
    "data_ml.drop('Type', axis=1, inplace=True)"
   ]
  },
  {
   "cell_type": "code",
   "execution_count": 21,
   "id": "450742e4",
   "metadata": {},
   "outputs": [],
   "source": [
    "data_ml['PaperlessBilling'] = data_ml['PaperlessBilling'].map({'Yes': 1, 'No': 0})"
   ]
  },
  {
   "cell_type": "code",
   "execution_count": 22,
   "id": "833f9f3e",
   "metadata": {},
   "outputs": [
    {
     "data": {
      "text/plain": [
       "PaymentMethod\n",
       "Electronic check             2365\n",
       "Mailed check                 1612\n",
       "Bank transfer (automatic)    1544\n",
       "Credit card (automatic)      1522\n",
       "Name: count, dtype: int64"
      ]
     },
     "execution_count": 22,
     "metadata": {},
     "output_type": "execute_result"
    }
   ],
   "source": [
    "data_ml['PaymentMethod'].value_counts()"
   ]
  },
  {
   "cell_type": "code",
   "execution_count": 23,
   "id": "0736b6d0",
   "metadata": {},
   "outputs": [],
   "source": [
    "payment_dummy = pd.get_dummies(data_ml['PaymentMethod'], prefix='PaymentMethod')\n",
    "data_ml = pd.concat([data_ml, payment_dummy], axis=1)\n",
    "data_ml.drop('PaymentMethod', axis=1, inplace=True)"
   ]
  },
  {
   "cell_type": "code",
   "execution_count": 24,
   "id": "1c9c20a6",
   "metadata": {},
   "outputs": [],
   "source": [
    "data_ml['TotalCharges'] = pd.to_numeric(data_ml['TotalCharges'], errors='coerce')\n",
    "data_ml['TotalCharges'] = data_ml['TotalCharges'].fillna(0)\n"
   ]
  },
  {
   "cell_type": "code",
   "execution_count": 25,
   "id": "4abaa6df",
   "metadata": {},
   "outputs": [],
   "source": [
    "# Dummies de InternetService\n",
    "data_ml = pd.get_dummies(data_ml, columns=['InternetService'], drop_first=False)"
   ]
  },
  {
   "cell_type": "code",
   "execution_count": 26,
   "id": "a3f7ef8e",
   "metadata": {},
   "outputs": [],
   "source": [
    "data_ml.drop('InternetService_No', axis=1, inplace=True)"
   ]
  },
  {
   "cell_type": "code",
   "execution_count": 27,
   "id": "494d6dbe",
   "metadata": {},
   "outputs": [],
   "source": [
    "# Transforma a boolean OnlineSecurity\n",
    "data_ml['OnlineSecurity'] = data_ml['OnlineSecurity'].map({'Yes': 1, 'No': 0})"
   ]
  },
  {
   "cell_type": "code",
   "execution_count": 28,
   "id": "2402c77a",
   "metadata": {},
   "outputs": [],
   "source": [
    "data_ml['OnlineBackup'] = data_ml['OnlineBackup'].map({'Yes': 1, 'No': 0})"
   ]
  },
  {
   "cell_type": "code",
   "execution_count": 29,
   "id": "998d295a",
   "metadata": {},
   "outputs": [],
   "source": [
    "data_ml['DeviceProtection'] = data_ml['DeviceProtection'].map({'Yes': 1, 'No': 0})"
   ]
  },
  {
   "cell_type": "code",
   "execution_count": 30,
   "id": "42a48ead",
   "metadata": {},
   "outputs": [],
   "source": [
    "data_ml['TechSupport'] = data_ml['TechSupport'].map({'Yes': 1, 'No': 0})"
   ]
  },
  {
   "cell_type": "code",
   "execution_count": 31,
   "id": "9dba5c48",
   "metadata": {},
   "outputs": [],
   "source": [
    "data_ml['StreamingTV'] = data_ml['StreamingTV'].map({'Yes': 1, 'No': 0})"
   ]
  },
  {
   "cell_type": "code",
   "execution_count": 32,
   "id": "c702d77d",
   "metadata": {},
   "outputs": [],
   "source": [
    "data_ml['StreamingMovies'] = data_ml['StreamingMovies'].map({'Yes': 1, 'No': 0})"
   ]
  },
  {
   "cell_type": "code",
   "execution_count": 33,
   "id": "9facc084",
   "metadata": {},
   "outputs": [
    {
     "data": {
      "text/plain": [
       "gender\n",
       "Male      3555\n",
       "Female    3488\n",
       "Name: count, dtype: int64"
      ]
     },
     "execution_count": 33,
     "metadata": {},
     "output_type": "execute_result"
    }
   ],
   "source": [
    "data_ml['gender'].value_counts()"
   ]
  },
  {
   "cell_type": "code",
   "execution_count": 34,
   "id": "45820e1f",
   "metadata": {},
   "outputs": [],
   "source": [
    "# Si gender Male 0 si gender Female 1\n",
    "data_ml['gender'] = data_ml['gender'].map({'Male': 0, 'Female': 1})"
   ]
  },
  {
   "cell_type": "code",
   "execution_count": 35,
   "id": "fe16dc14",
   "metadata": {},
   "outputs": [],
   "source": [
    "data_ml['Partner'] = data_ml['Partner'].map({'Yes': 1, 'No': 0})"
   ]
  },
  {
   "cell_type": "code",
   "execution_count": 36,
   "id": "fa78ad2a",
   "metadata": {},
   "outputs": [],
   "source": [
    "data_ml['Dependents'] = data_ml['Dependents'].map({'Yes': 1, 'No': 0})"
   ]
  },
  {
   "cell_type": "code",
   "execution_count": 37,
   "id": "c879d9a5",
   "metadata": {},
   "outputs": [],
   "source": [
    "data_ml = pd.get_dummies(data_ml, columns=['MultipleLines'], drop_first=False)"
   ]
  },
  {
   "cell_type": "code",
   "execution_count": 38,
   "id": "44f90087",
   "metadata": {},
   "outputs": [],
   "source": [
    "data_ml.drop('MultipleLines_No phone service', axis=1, inplace=True)"
   ]
  },
  {
   "cell_type": "code",
   "execution_count": 39,
   "id": "a4892c79",
   "metadata": {},
   "outputs": [
    {
     "name": "stdout",
     "output_type": "stream",
     "text": [
      "<class 'pandas.core.frame.DataFrame'>\n",
      "RangeIndex: 7043 entries, 0 to 7042\n",
      "Data columns (total 25 columns):\n",
      " #   Column                                   Non-Null Count  Dtype         \n",
      "---  ------                                   --------------  -----         \n",
      " 0   customerID                               7043 non-null   object        \n",
      " 1   BeginDate                                7043 non-null   datetime64[ns]\n",
      " 2   EndDate                                  1869 non-null   datetime64[ns]\n",
      " 3   PaperlessBilling                         7043 non-null   int64         \n",
      " 4   MonthlyCharges                           7043 non-null   float64       \n",
      " 5   TotalCharges                             7043 non-null   float64       \n",
      " 6   OnlineSecurity                           7043 non-null   int64         \n",
      " 7   OnlineBackup                             7043 non-null   int64         \n",
      " 8   DeviceProtection                         7043 non-null   int64         \n",
      " 9   TechSupport                              7043 non-null   int64         \n",
      " 10  StreamingTV                              7043 non-null   int64         \n",
      " 11  StreamingMovies                          7043 non-null   int64         \n",
      " 12  gender                                   7043 non-null   int64         \n",
      " 13  SeniorCitizen                            7043 non-null   int64         \n",
      " 14  Partner                                  7043 non-null   int64         \n",
      " 15  Dependents                               7043 non-null   int64         \n",
      " 16  Type_encoded                             7043 non-null   float64       \n",
      " 17  PaymentMethod_Bank transfer (automatic)  7043 non-null   bool          \n",
      " 18  PaymentMethod_Credit card (automatic)    7043 non-null   bool          \n",
      " 19  PaymentMethod_Electronic check           7043 non-null   bool          \n",
      " 20  PaymentMethod_Mailed check               7043 non-null   bool          \n",
      " 21  InternetService_DSL                      7043 non-null   bool          \n",
      " 22  InternetService_Fiber optic              7043 non-null   bool          \n",
      " 23  MultipleLines_No                         7043 non-null   bool          \n",
      " 24  MultipleLines_Yes                        7043 non-null   bool          \n",
      "dtypes: bool(8), datetime64[ns](2), float64(3), int64(11), object(1)\n",
      "memory usage: 990.5+ KB\n"
     ]
    }
   ],
   "source": [
    "data_ml.info()"
   ]
  },
  {
   "cell_type": "code",
   "execution_count": 44,
   "id": "e41d4839",
   "metadata": {},
   "outputs": [],
   "source": [
    "data_ml['is_churn'] = data_ml['EndDate'].apply(lambda x: 1 if pd.notnull(x) else 0)\n"
   ]
  },
  {
   "cell_type": "code",
   "execution_count": 45,
   "id": "7a5d6ac2",
   "metadata": {},
   "outputs": [],
   "source": [
    "# Duration \n",
    "data_ml['Duration'] = (data_ml['EndDate'] - data_ml['BeginDate']).dt.days / 30"
   ]
  },
  {
   "cell_type": "code",
   "execution_count": 46,
   "id": "82460bc1",
   "metadata": {},
   "outputs": [
    {
     "data": {
      "text/plain": [
       "Duration\n",
       "1.033333     198\n",
       "1.000000     182\n",
       "2.033333     123\n",
       "5.100000      64\n",
       "3.066667      63\n",
       "            ... \n",
       "51.733333      2\n",
       "44.666667      1\n",
       "40.600000      1\n",
       "63.900000      1\n",
       "72.033333      1\n",
       "Name: count, Length: 131, dtype: int64"
      ]
     },
     "execution_count": 46,
     "metadata": {},
     "output_type": "execute_result"
    }
   ],
   "source": [
    "data_ml['Duration'].value_counts()"
   ]
  },
  {
   "cell_type": "markdown",
   "id": "cb0f3a9b",
   "metadata": {},
   "source": [
    "# Modeling"
   ]
  },
  {
   "cell_type": "markdown",
   "id": "b0b0cf90",
   "metadata": {},
   "source": [
    "# Evaluation"
   ]
  },
  {
   "cell_type": "markdown",
   "id": "2a4cf5af",
   "metadata": {},
   "source": [
    "# Deployment"
   ]
  },
  {
   "cell_type": "code",
   "execution_count": 42,
   "id": "bc7134f1",
   "metadata": {},
   "outputs": [],
   "source": [
    "import pandas as pd\n",
    "import matplotlib.pyplot as plt\n",
    "import seaborn as sns\n",
    "import numpy as np"
   ]
  },
  {
   "cell_type": "markdown",
   "id": "a11d9669",
   "metadata": {},
   "source": []
  },
  {
   "cell_type": "code",
   "execution_count": 43,
   "id": "91406dd3",
   "metadata": {},
   "outputs": [],
   "source": [
    "# "
   ]
  }
 ],
 "metadata": {
  "kernelspec": {
   "display_name": "dataMining",
   "language": "python",
   "name": "python3"
  },
  "language_info": {
   "codemirror_mode": {
    "name": "ipython",
    "version": 3
   },
   "file_extension": ".py",
   "mimetype": "text/x-python",
   "name": "python",
   "nbconvert_exporter": "python",
   "pygments_lexer": "ipython3",
   "version": "3.9.21"
  }
 },
 "nbformat": 4,
 "nbformat_minor": 5
}
